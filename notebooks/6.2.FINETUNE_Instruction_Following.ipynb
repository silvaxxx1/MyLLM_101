{
 "cells": [
  {
   "cell_type": "markdown",
   "metadata": {},
   "source": [
    "# 📚 Notebook 6.2: Instructing Following Fine-tuning\n",
    "\n",
    "🎉 Welcome back, fellow explorer! In our previous adventure, we dove into the world of fine-tuning the GPT-2 (124M) model to create a powerful text classifier. Today, we're taking things up a notch and embarking on a journey into **Instruct Fine-tuning (IF)**—a super exciting technique that enhances how our models understand and follow instructions! 🚀\n",
    "\n",
    "<p align=\"center\">\n",
    "    <img src=\"images/if.png\" alt=\"My Image\" />\n",
    "</p>\n",
    "\n",
    "### What is Instruct Fine-tuning (IF)? 🤔\n",
    "\n",
    "Instruct Fine-tuning (IF) is like giving our language model a special set of instructions to follow, making it even more adept at handling instruction-based tasks. By fine-tuning a pre-trained model on a dataset specifically designed for following commands, we can empower it to generate responses that align perfectly with what users ask for. Think of it as upgrading our trusty sidekick to become even more helpful! 🦸‍♂️✨\n",
    "\n",
    "### Our Fun Plan 🎯\n",
    "\n",
    "In this notebook, we’re going to have a blast following these steps:\n",
    "\n",
    "1. **Prepare the data for IF fine-tuning**: Let’s get our dataset ready for the big training party! 🎉\n",
    "2. **Load our previously built GPT model**: This time, we’re going for the **335M variant**—a powerful upgrade! 💪\n",
    "3. **Fine-tune the model on the IF dataset**: Time to train our model to be the best instruction follower it can be! 📈\n",
    "4. **Inspect the results**: After our training session, we’ll check out what our model has learned and how well it performs. 🔍\n",
    "5. **Evaluate the model with Ollama**: Finally, we’ll put our model to the test using **Ollama** and see how it shines in the real world! 🌟\n",
    "\n",
    "Let’s get started on this exciting journey! 🚀\n",
    "\n",
    "## 1. Prepare the data for Instruction-following\n",
    "We going to use a small dataset from the consist of 1100 data entries."
   ]
  },
  {
   "cell_type": "code",
   "execution_count": null,
   "metadata": {
    "id": "KcECVsqkMR_5"
   },
   "outputs": [],
   "source": [
    "# to get the data and load it we need : \n",
    "import os\n",
    "import urllib.request\n",
    "import json\n"
   ]
  },
  {
   "cell_type": "code",
   "execution_count": 7,
   "metadata": {
    "colab": {
     "base_uri": "https://localhost:8080/"
    },
    "id": "00QmwA_LPWsu",
    "outputId": "0e742b7d-e436-4c6b-a82b-e73e1bc5fa92"
   },
   "outputs": [
    {
     "name": "stdout",
     "output_type": "stream",
     "text": [
      "Downloading...\n",
      "Number of entries: 1100\n",
      "Entry to the list:\n",
      " {'instruction': 'What is the contraction for \"will not\"?', 'input': '', 'output': 'The contraction for \"will not\" is \"won\\'t\".'}\n"
     ]
    }
   ],
   "source": [
    "import os\n",
    "import urllib.request\n",
    "import json\n",
    "\n",
    "def download_and_load_data(file_path, url):\n",
    "    # Check if the data file already exists\n",
    "    if os.path.exists(file_path):\n",
    "        print(\"Already exists... opening...\")\n",
    "        # If the file exists, open it and read the contents\n",
    "        with open(file_path, 'r', encoding='utf-8') as f:\n",
    "            text_data = f.read()\n",
    "    else:\n",
    "        print(\"Downloading...\")\n",
    "        # If the file does not exist, download the data from the provided URL\n",
    "        with urllib.request.urlopen(url) as response:\n",
    "            # Read and decode the response content\n",
    "            text_data = response.read().decode('utf-8')\n",
    "        # Save the downloaded data to the specified file path\n",
    "        with open(file_path, 'w', encoding='utf-8') as f:\n",
    "            f.write(text_data)\n",
    "\n",
    "    # Load the JSON data directly from text_data\n",
    "    # This converts the text representation of the JSON data into a Python object (list or dictionary)\n",
    "    data = json.loads(text_data)\n",
    "    return data\n",
    "\n",
    "# Specify the file path for storing the data\n",
    "file_path = \"instruction-data.json\"\n",
    "# Define the URL to download the instruction data\n",
    "url = (\n",
    "    \"https://raw.githubusercontent.com/rasbt/LLMs-from-scratch\"\n",
    "    \"/main/ch07/01_main-chapter-code/instruction-data.json\"\n",
    ")\n",
    "\n",
    "# Call the function to download/load the data and store it in the 'data' variable\n",
    "data = download_and_load_data(file_path, url)\n",
    "# Print the number of entries in the loaded data\n",
    "print(\"Number of entries:\", len(data))\n",
    "# Print an example entry from the list (entry at index 10)\n",
    "print(\"Entry to the list:\\n\", data[10])\n"
   ]
  },
  {
   "cell_type": "markdown",
   "metadata": {},
   "source": [
    "Instruction fine-tuning involves retraining a language model on a dataset where each entry is structured as an **input-output pair**. Typically, this data is extracted from a **JSON format**. By training on this data, the model learns to generate responses that align with specific instructions or contexts.\n",
    "\n",
    "### Data Formatting Methods\n",
    "\n",
    "To effectively format this data for instruction fine-tuning, we can use two primary prompting methods:\n",
    "\n",
    "1. **Alpaca Style Format**\n",
    "   - This format is designed to provide clear structure to the input-output pairs.\n",
    "   - **Template Structure**:\n",
    "     ```\n",
    "     ## Instruction\n",
    "     <Instruction goes here>\n",
    "     \n",
    "     ## Input\n",
    "     <Input data here>\n",
    "     \n",
    "     ## Response\n",
    "     <Expected output here>\n",
    "     ```\n",
    "\n",
    "2. **Phi3 Format**\n",
    "   - This approach employs a conversational style, framing the interaction in a user-assistant dialogue.\n",
    "   - **Template Structure**:\n",
    "     ```\n",
    "     ## <|user|>\n",
    "     <User input goes here>\n",
    "     \n",
    "     ## <|assistant|>\n",
    "     <Expected response from the assistant>\n",
    "     ```\n",
    "\n",
    "### Summary of Differences\n",
    "\n",
    "| Feature               | Alpaca Style Format                      | Phi3 Format                               |\n",
    "|-----------------------|------------------------------------------|-------------------------------------------|\n",
    "| **Structure**         | Clear sections for instruction, input, and response | Conversational dialogue between user and assistant |\n",
    "| **Clarity**           | Highly structured, easy to follow       | More fluid, encourages natural interactions |\n",
    "| **Use Cases**         | Ideal for straightforward tasks         | Suitable for interactive and engaging responses |\n",
    "\n",
    "\n",
    "## Here we choosing Alpaca \n"
   ]
  },
  {
   "cell_type": "code",
   "execution_count": 8,
   "metadata": {
    "id": "TOHlpBTMSUOT"
   },
   "outputs": [],
   "source": [
    "def format_input(entry):\n",
    "    # Create the instruction text using the instruction from the entry\n",
    "    instruction_text = (\n",
    "        f\"Below is an instruction that describes a task. \"\n",
    "        f\"Write a response that appropriately completes the request.\"\n",
    "        f\"\\n\\n### Instruction:\\n{entry['instruction']}\"  # Include the instruction in the formatted text\n",
    "    )\n",
    "\n",
    "    # Check if the input exists; if so, format it accordingly\n",
    "    input_text = f\"\\n\\n### Input:\\n{entry['input']}\" if entry[\"input\"] else \"\"\n",
    "\n",
    "    # Combine the instruction text and input text (if any) and return the result\n",
    "    return instruction_text + input_text\n"
   ]
  },
  {
   "cell_type": "code",
   "execution_count": 9,
   "metadata": {
    "colab": {
     "base_uri": "https://localhost:8080/"
    },
    "id": "2cOLCTD5UbAO",
    "outputId": "b16da874-778e-48d8-8131-9daa968c2c8f"
   },
   "outputs": [
    {
     "name": "stdout",
     "output_type": "stream",
     "text": [
      "Below is an instruction that describes a task. Write a response that appropriately completes the request.\n",
      "\n",
      "### Instruction:\n",
      "Identify the correct spelling of the following word.\n",
      "\n",
      "### Input:\n",
      "Ocassion\n",
      "\n",
      "### Response:\n",
      "The correct spelling is 'Occasion.'\n"
     ]
    }
   ],
   "source": [
    "model_input = format_input(data[50])\n",
    "desired_response = f\"\\n\\n### Response:\\n{data[50]['output']}\"\n",
    "\n",
    "print(model_input + desired_response)"
   ]
  },
  {
   "cell_type": "markdown",
   "metadata": {},
   "source": [
    "## Now lets move to split the data \n",
    "We can use sklearn train_test_split "
   ]
  },
  {
   "cell_type": "code",
   "execution_count": 10,
   "metadata": {
    "colab": {
     "base_uri": "https://localhost:8080/"
    },
    "id": "Q1Wob6IwV8oj",
    "outputId": "26b214bf-e48d-4848-bbb5-ed2629b88685"
   },
   "outputs": [
    {
     "name": "stdout",
     "output_type": "stream",
     "text": [
      "Train data size: 935\n",
      "Validation data size: 55\n",
      "Test data size: 110\n"
     ]
    }
   ],
   "source": [
    "from sklearn.model_selection import train_test_split\n",
    "\n",
    "train_data, temp_data = train_test_split(data, test_size=0.15, random_state=42)  # 85% train, 15% temp\n",
    "\n",
    "# Split temp data into 5% validation and 10% test\n",
    "val_data, test_data = train_test_split(temp_data, test_size=(10/15), random_state=42)  # 5% val, 10% test\n",
    "\n",
    "print(\"Train data size:\", len(train_data))\n",
    "print(\"Validation data size:\", len(val_data))\n",
    "print(\"Test data size:\", len(test_data))"
   ]
  },
  {
   "cell_type": "markdown",
   "metadata": {},
   "source": [
    "Creating the initial state of dataset , as we need to add modification to suit the instruction fine tuning format"
   ]
  },
  {
   "cell_type": "code",
   "execution_count": 11,
   "metadata": {
    "id": "8eaH0vq7XJaW"
   },
   "outputs": [],
   "source": [
    "import torch\n",
    "from torch.utils.data import Dataset, DataLoader\n",
    "\n",
    "class InstructionDataset(Dataset):\n",
    "    def __init__(self, data, tokenizer):\n",
    "        # Initialize the dataset with data and a tokenizer\n",
    "        self.data = data\n",
    "        self.encode_data = []\n",
    "\n",
    "        # Loop through each entry in the dataset\n",
    "        for entry in data:\n",
    "            # Format the input entry into a structured text\n",
    "            instruction_text = format_input(entry) ## using the function defined above\n",
    "            # Prepare the desired response format\n",
    "            desired_response = f\"\\n\\n### Response:\\n{entry['output']}\"\n",
    "            # Combine instruction and response into full text\n",
    "            full_text = instruction_text + desired_response\n",
    "            # Encode the full text using the provided tokenizer and store it\n",
    "            self.encode_data.append(\n",
    "                tokenizer.encode(full_text)\n",
    "            )\n",
    "\n",
    "    def __len__(self):\n",
    "        return len(self.data)\n",
    "\n",
    "    def __getitem__(self, index):\n",
    "        return self.encode_data[index]\n"
   ]
  },
  {
   "cell_type": "markdown",
   "metadata": {},
   "source": [
    "Moving to the Key Aspect of Data Preprocessing: Batch Processing\n",
    "In the previous notebook, we allowed the PyTorch Dataset to handle the batching automatically. However, in this scenario, we need to take a more hands-on approach. We will create a custom function to facilitate batching in our dataset class.\n",
    "\n",
    "Let’s walk through the process step by step:\n",
    "\n",
    "Choosing the Longest Sequence in the Batch:\n",
    "The longest sequence in the batch will serve as the standard length.\n",
    "All other sequences in the batch will be padded to match this length.\n",
    "By implementing this method, we can ensure that our input data is consistently formatted for processing in the model."
   ]
  },
  {
   "cell_type": "code",
   "execution_count": null,
   "metadata": {
    "colab": {
     "base_uri": "https://localhost:8080/"
    },
    "id": "Z0nB5WAlbrnx",
    "outputId": "ea4a818c-9528-4692-ef82-c7d6ce510c82"
   },
   "outputs": [
    {
     "name": "stdout",
     "output_type": "stream",
     "text": [
      "Collecting tiktoken\n",
      "  Downloading tiktoken-0.8.0-cp310-cp310-manylinux_2_17_x86_64.manylinux2014_x86_64.whl.metadata (6.6 kB)\n",
      "Requirement already satisfied: regex>=2022.1.18 in /usr/local/lib/python3.10/dist-packages (from tiktoken) (2024.9.11)\n",
      "Requirement already satisfied: requests>=2.26.0 in /usr/local/lib/python3.10/dist-packages (from tiktoken) (2.32.3)\n",
      "Requirement already satisfied: charset-normalizer<4,>=2 in /usr/local/lib/python3.10/dist-packages (from requests>=2.26.0->tiktoken) (3.4.0)\n",
      "Requirement already satisfied: idna<4,>=2.5 in /usr/local/lib/python3.10/dist-packages (from requests>=2.26.0->tiktoken) (3.10)\n",
      "Requirement already satisfied: urllib3<3,>=1.21.1 in /usr/local/lib/python3.10/dist-packages (from requests>=2.26.0->tiktoken) (2.2.3)\n",
      "Requirement already satisfied: certifi>=2017.4.17 in /usr/local/lib/python3.10/dist-packages (from requests>=2.26.0->tiktoken) (2024.8.30)\n",
      "Downloading tiktoken-0.8.0-cp310-cp310-manylinux_2_17_x86_64.manylinux2014_x86_64.whl (1.2 MB)\n",
      "\u001b[?25l   \u001b[90m━━━━━━━━━━━━━━━━━━━━━━━━━━━━━━━━━━━━━━━━\u001b[0m \u001b[32m0.0/1.2 MB\u001b[0m \u001b[31m?\u001b[0m eta \u001b[36m-:--:--\u001b[0m\r\u001b[2K   \u001b[91m━━━━━━━━━━━━━━━━━━━━\u001b[0m\u001b[91m╸\u001b[0m\u001b[90m━━━━━━━━━━━━━━━━━━━\u001b[0m \u001b[32m0.6/1.2 MB\u001b[0m \u001b[31m17.8 MB/s\u001b[0m eta \u001b[36m0:00:01\u001b[0m\r\u001b[2K   \u001b[90m━━━━━━━━━━━━━━━━━━━━━━━━━━━━━━━━━━━━━━━━\u001b[0m \u001b[32m1.2/1.2 MB\u001b[0m \u001b[31m21.3 MB/s\u001b[0m eta \u001b[36m0:00:00\u001b[0m\n",
      "\u001b[?25hInstalling collected packages: tiktoken\n",
      "Successfully installed tiktoken-0.8.0\n",
      "[50256]\n"
     ]
    }
   ],
   "source": [
    "import tiktoken\n",
    "tokenizer = tiktoken.get_encoding(\"gpt2\")\n",
    "print(tokenizer.encode(\"<|endoftext|>\", allowed_special = {\"<|endoftext|>\"}))"
   ]
  },
  {
   "cell_type": "code",
   "execution_count": null,
   "metadata": {
    "id": "D8LF7cw_iL9l"
   },
   "outputs": [],
   "source": [
    "\n",
    "def collate_fn1(batch, pad_token_id=50256, device=\"cpu\"):\n",
    "    \"\"\"\n",
    "    Custom collate function to prepare batches for training.\n",
    "    \n",
    "    Args:\n",
    "        batch (list): A list of input sequences to be processed.\n",
    "        pad_token_id (int): The token ID used for padding sequences (default: 50256).\n",
    "        device (str): The device to which the tensors will be moved (default: \"cpu\").\n",
    "    \n",
    "    Returns:\n",
    "        torch.Tensor: A tensor containing padded input sequences.\n",
    "    \"\"\"\n",
    "    \n",
    "    # Determine the maximum length of sequences in the current batch\n",
    "    batch_max_length = max(len(entry) + 1 for entry in batch)  # +1 for the additional padding\n",
    "\n",
    "    # Initialize a list to hold the processed input tensors\n",
    "    input_ls = []\n",
    "\n",
    "    # Iterate through each entry in the batch\n",
    "    for entry in batch:\n",
    "        # Create a copy of the current entry\n",
    "        new_entry = entry.copy()\n",
    "        \n",
    "        # Append the padding token to the end of the current entry\n",
    "        new_entry += [pad_token_id]\n",
    "\n",
    "        # Pad the current entry with the pad token until it matches the maximum length\n",
    "        padded = (\n",
    "            new_entry + [pad_token_id] * (batch_max_length - len(new_entry))\n",
    "        )\n",
    "        \n",
    "        # Convert the padded list to a tensor, excluding the last padding token (used for sequence modeling)\n",
    "        inputs = torch.tensor(padded[:-1])\n",
    "        \n",
    "        # Add the input tensor to the list of input tensors\n",
    "        input_ls.append(inputs)\n",
    "\n",
    "    # Stack the list of tensors into a single tensor and move it to the specified device\n",
    "    inputrs_tensor = torch.stack(input_ls).to(device)\n",
    "    \n",
    "    # Return the resulting tensor containing the padded input sequences\n",
    "    return inputrs_tensor\n"
   ]
  },
  {
   "cell_type": "markdown",
   "metadata": {},
   "source": [
    "Lets test the function to examine the output "
   ]
  },
  {
   "cell_type": "code",
   "execution_count": 10,
   "metadata": {
    "colab": {
     "base_uri": "https://localhost:8080/"
    },
    "id": "9Fea3_zFjyHu",
    "outputId": "2e59e59c-6d87-4efd-f0ae-084005651f55"
   },
   "outputs": [
    {
     "name": "stdout",
     "output_type": "stream",
     "text": [
      "tensor([[    0,     1,     2,     3,     4],\n",
      "        [    5,     6, 50256, 50256, 50256],\n",
      "        [    7,     8,     9, 50256, 50256]])\n"
     ]
    }
   ],
   "source": [
    "inputs_1 = [0, 1, 2, 3, 4]\n",
    "inputs_2 = [5, 6]\n",
    "inputs_3 = [7, 8, 9]\n",
    "\n",
    "batch = (\n",
    "    inputs_1,\n",
    "    inputs_2,\n",
    "    inputs_3\n",
    ")\n",
    "\n",
    "print(collate_fn1(batch))"
   ]
  },
  {
   "cell_type": "markdown",
   "metadata": {},
   "source": [
    "In the batching process, we identify `input_1` as the longest tensor in the batch. To ensure uniformity, we pad shorter tensors using the `<|endoftext|>` token added to the tokenizer.\n",
    "\n",
    "### Key Points:\n",
    "1. **Longest Tensor**: We determine the maximum length of tensors in the batch.\n",
    "2. **Padding**: Each tensor is padded with `(len(max_length) - len(the tensor))` instances of the padding token until all tensors match the maximum length.\n"
   ]
  },
  {
   "cell_type": "code",
   "execution_count": 11,
   "metadata": {
    "colab": {
     "base_uri": "https://localhost:8080/"
    },
    "id": "485AB_imkwdr",
    "outputId": "8b120cda-e708-4af6-abe7-2f5c540b523f"
   },
   "outputs": [
    {
     "name": "stdout",
     "output_type": "stream",
     "text": [
      "tensor([[    0,     1,     2,     3,     4,     7,    10],\n",
      "        [    5,     6, 50256, 50256, 50256, 50256, 50256],\n",
      "        [    7,     8,     9, 50256, 50256, 50256, 50256]])\n"
     ]
    }
   ],
   "source": [
    "inputs_1 = [0, 1, 2, 3, 4,7,10]\n",
    "inputs_2 = [5, 6]\n",
    "inputs_3 = [7, 8, 9]\n",
    "\n",
    "batch = (\n",
    "    inputs_1,\n",
    "    inputs_2,\n",
    "    inputs_3\n",
    ")\n",
    "\n",
    "print(collate_fn1(batch))"
   ]
  },
  {
   "cell_type": "markdown",
   "metadata": {},
   "source": [
    "### Padding the Target Tensor\n",
    "\n",
    "The second step involves padding the target tensor. We use the same padding method as before, but with a slight adjustment in the slicing:\n",
    "\n",
    "1. **Padding Logic**: Each target tensor is padded to match the maximum length, similar to the input tensors.\n",
    "2. **Slicing Adjustment**: The key difference is that we slice the input tensor with `input + 1`. This is necessary for the autoregressive generation, where the target should include the next token after the input.\n",
    "\n",
    "### Example:\n",
    "- If the input tensor is `[token1, token2, token3]` (length 3), the target tensor would look like:\n",
    "  - **Input**: `[token1, token2, token3]` → **Max Length**: 4\n",
    "  - **Target**: `[token2, token3, <|endoftext|>]` (length 3, padded with 1 `<|endoftext|>` token)\n",
    "\n",
    "lets implement this in the second veriosn of the function"
   ]
  },
  {
   "cell_type": "code",
   "execution_count": null,
   "metadata": {
    "id": "-biXclkdlCoU"
   },
   "outputs": [],
   "source": [
    "def collate_fn2(batch, pad_token_id=50256, device=\"cpu\"):\n",
    "    # Determine the maximum length of the input sequences in the batch\n",
    "    batch_max_length = max(len(item) + 1 for item in batch)\n",
    "    \n",
    "    # Initialize lists to hold input and target tensors\n",
    "    input_ls, target_lst = [], []\n",
    "\n",
    "    # Iterate over each item in the batch\n",
    "    for item in batch:\n",
    "        # Create a copy of the current item and append the padding token\n",
    "        new_item = item.copy()\n",
    "        new_item += [pad_token_id]  # Append pad token to the end\n",
    "\n",
    "        # Pad the input sequence to match the maximum length\n",
    "        padded = (\n",
    "            new_item + [pad_token_id] * (batch_max_length - len(new_item))\n",
    "        )\n",
    "\n",
    "        # Create the input tensor by excluding the last token\n",
    "        inputs = torch.tensor(padded[:-1])  # All but the last token\n",
    "        # Create the target tensor by excluding the first token\n",
    "        target = torch.tensor(padded[1:])  # All but the first token\n",
    "\n",
    "        # Append the input and target tensors to their respective lists\n",
    "        input_ls.append(inputs)\n",
    "        target_lst.append(target)\n",
    "\n",
    "    # Stack the input and target lists into tensors and move them to the specified device\n",
    "    input_tensor = torch.stack(input_ls).to(device)\n",
    "    target_tensor = torch.stack(target_lst).to(device)\n",
    "    \n",
    "    return input_tensor, target_tensor  # Return both tensors\n"
   ]
  },
  {
   "cell_type": "markdown",
   "metadata": {},
   "source": [
    "Lets see the result of the implementaion "
   ]
  },
  {
   "cell_type": "code",
   "execution_count": 13,
   "metadata": {
    "colab": {
     "base_uri": "https://localhost:8080/"
    },
    "id": "_YAp0P5Mn0NO",
    "outputId": "03e45f34-e52f-4663-c54a-866116a34054"
   },
   "outputs": [
    {
     "name": "stdout",
     "output_type": "stream",
     "text": [
      "input tensor tensor([[    0,     1,     2,     3,     4,     7,    10],\n",
      "        [    5,     6, 50256, 50256, 50256, 50256, 50256],\n",
      "        [    7,     8,     9, 50256, 50256, 50256, 50256]])\n",
      "target tensor: tensor([[    1,     2,     3,     4,     7,    10, 50256],\n",
      "        [    6, 50256, 50256, 50256, 50256, 50256, 50256],\n",
      "        [    8,     9, 50256, 50256, 50256, 50256, 50256]])\n"
     ]
    }
   ],
   "source": [
    "inputs_1 = [0, 1, 2, 3, 4,7,10]\n",
    "inputs_2 = [5, 6]\n",
    "inputs_3 = [7, 8, 9]\n",
    "\n",
    "batch = (\n",
    "    inputs_1,\n",
    "    inputs_2,\n",
    "    inputs_3\n",
    ")\n",
    "\n",
    "input_tensor, target_tensor = collate_fn2(batch)\n",
    "print(\"input tensor\",input_tensor)\n",
    "print(\"target tensor:\",target_tensor)"
   ]
  },
  {
   "cell_type": "markdown",
   "metadata": {},
   "source": [
    "### Third Step: Masking the Target Tensor Padding\n",
    "\n",
    "In this step, we mask the padding in the target tensor, except for the first `|<endoftext>|` token. This is essential for the following reasons:\n",
    "\n",
    "1. **Preventing Loss Calculation Errors**:  \n",
    "   We want to avoid including irrelevant data (like padding tokens) in the loss calculation. Including padding would skew the model's training, as the model would be penalized for generating predictions against these non-informative tokens.\n",
    "\n",
    "2. **Preserving the End-of-Text Token**:  \n",
    "   The first padding token is retained because it corresponds to the `|<endoftext>|` token. This token is crucial for language modeling, as it helps the model understand when a piece of text has ended. Losing this context could hinder the model's ability to predict the termination of a sequence accurately.\n",
    "\n",
    "By masking appropriately, we ensure that the model focuses on the meaningful parts of the data while still recognizing the importance of the end-of-text marker.\n"
   ]
  },
  {
   "cell_type": "code",
   "execution_count": null,
   "metadata": {
    "id": "mEJSFc2vn9u3"
   },
   "outputs": [],
   "source": [
    "def collate_fn3(batch, pad_token_id=50256, ignore_index=-100, allowed_max_len=None, device=\"cpu\"):\n",
    "    # Determine the maximum length of the sequences in the batch\n",
    "    batch_max_length = max(len(item) + 1 for item in batch)\n",
    "    input_ls, target_ls = [], []\n",
    "\n",
    "    # Iterate through each item in the batch\n",
    "    for item in batch:\n",
    "        # Create a copy of the item and append the padding token\n",
    "        new_item = item.copy()\n",
    "        new_item += [pad_token_id]\n",
    "\n",
    "        # Pad the item to the maximum length\n",
    "        padded = new_item + [pad_token_id] * (batch_max_length - len(new_item))\n",
    "\n",
    "        # Separate inputs and targets; inputs exclude the last token, targets exclude the first token\n",
    "        inputs = torch.tensor(padded[:-1])  # Input tensor\n",
    "        target = torch.tensor(padded[1:])   # Target tensor\n",
    "\n",
    "        # Create a mask for the padding tokens in the target tensor\n",
    "        mask = target == pad_token_id\n",
    "        indices = torch.nonzero(mask).squeeze()  # Get indices of padding tokens\n",
    "\n",
    "        # If there are multiple padding tokens, ignore the subsequent ones in the loss calculation\n",
    "        if indices.numel() > 1:\n",
    "            target[indices[1:]] = ignore_index  # Set ignore index for padding\n",
    "\n",
    "        # Optionally limit the length of inputs and targets\n",
    "        if allowed_max_len is not None:\n",
    "            inputs = inputs[:allowed_max_len]\n",
    "            target = target[:allowed_max_len]\n",
    "\n",
    "        # Append the processed inputs and targets to the respective lists\n",
    "        input_ls.append(inputs)\n",
    "        target_ls.append(target)\n",
    "\n",
    "    # Stack the lists into tensors and move them to the specified device\n",
    "    input_tensor = torch.stack(input_ls).to(device)\n",
    "    target_tensor = torch.stack(target_ls).to(device)\n",
    "\n",
    "    return input_tensor, target_tensor  # Return the batched input and target tensors\n"
   ]
  },
  {
   "cell_type": "markdown",
   "metadata": {},
   "source": [
    "Notice the target tensor masking"
   ]
  },
  {
   "cell_type": "code",
   "execution_count": 15,
   "metadata": {
    "colab": {
     "base_uri": "https://localhost:8080/"
    },
    "id": "uKmbxjf0qp4-",
    "outputId": "411de2a0-7b95-429e-cbd3-52d15f9c6a8d"
   },
   "outputs": [
    {
     "name": "stdout",
     "output_type": "stream",
     "text": [
      "input tensor: tensor([[    0,     1,     2,     3,     4,     7,    10],\n",
      "        [    5,     6, 50256, 50256, 50256, 50256, 50256],\n",
      "        [    7,     8,     9, 50256, 50256, 50256, 50256]])\n",
      "\n",
      "target tensor: tensor([[    1,     2,     3,     4,     7,    10, 50256],\n",
      "        [    6, 50256,  -100,  -100,  -100,  -100,  -100],\n",
      "        [    8,     9, 50256,  -100,  -100,  -100,  -100]])\n"
     ]
    }
   ],
   "source": [
    "inputs, targets = collate_fn3(batch)\n",
    "print(\"input tensor:\",inputs)\n",
    "print(\"\\ntarget tensor:\",targets)"
   ]
  },
  {
   "cell_type": "markdown",
   "metadata": {},
   "source": [
    "### Why We Mask Using -100\n",
    "We use `-100` for masking in PyTorch because it is the default ignore index. When PyTorch encounters this value during loss calculation, it automatically ignores it. As a result, no effect will occur in the loss calculation for these masked tokens.\n",
    "\n",
    "lets examone this hands on with the foloowing example notce we happen in loss_1 , loss_2 and 3 "
   ]
  },
  {
   "cell_type": "code",
   "execution_count": 16,
   "metadata": {
    "colab": {
     "base_uri": "https://localhost:8080/"
    },
    "id": "fhQ--0qBrrsy",
    "outputId": "eff8b4cb-dc33-4404-99d7-8d851fe226d7"
   },
   "outputs": [
    {
     "name": "stdout",
     "output_type": "stream",
     "text": [
      "tensor(1.1269)\n"
     ]
    }
   ],
   "source": [
    "logits_1 = torch.tensor(\n",
    "                        [[-1.0, 1.0],\n",
    "                        [-0.5, 1.5]])\n",
    "\n",
    "target_1 = torch.tensor([0, 1])\n",
    "\n",
    "loss_1 = torch.nn.CrossEntropyLoss()\n",
    "\n",
    "#\n",
    "print(loss_1(logits_1, target_1))"
   ]
  },
  {
   "cell_type": "code",
   "execution_count": 17,
   "metadata": {
    "colab": {
     "base_uri": "https://localhost:8080/"
    },
    "id": "2bQFYTmQusHg",
    "outputId": "2bd17ba3-f093-4770-885a-0ecb1f659124"
   },
   "outputs": [
    {
     "name": "stdout",
     "output_type": "stream",
     "text": [
      "tensor(0.7936)\n"
     ]
    }
   ],
   "source": [
    "logits_2 = torch.tensor(\n",
    "                      [[-1.0, 1.0],\n",
    "                      [-0.5, 1.5],\n",
    "                      [-0.5, 1.5]])\n",
    "\n",
    "targets_2 = torch.tensor([0, 1, 1])\n",
    "\n",
    "loss_2 = torch.nn.CrossEntropyLoss()\n",
    "\n",
    "#\n",
    "print(loss_2(logits_2, targets_2))\n",
    "#\n"
   ]
  },
  {
   "cell_type": "code",
   "execution_count": 18,
   "metadata": {
    "colab": {
     "base_uri": "https://localhost:8080/"
    },
    "id": "SsxNCrmnu7hm",
    "outputId": "b8c46e24-0af1-4983-af2f-9404bfcee1c1"
   },
   "outputs": [
    {
     "name": "stdout",
     "output_type": "stream",
     "text": [
      "tensor(1.1269)\n"
     ]
    }
   ],
   "source": [
    "targets_2 = torch.tensor([0, 1, -100])\n",
    "\n",
    "print(loss_2(logits_2, targets_2))"
   ]
  },
  {
   "cell_type": "code",
   "execution_count": 19,
   "metadata": {
    "colab": {
     "base_uri": "https://localhost:8080/"
    },
    "id": "cYmRa1f6vCkx",
    "outputId": "91862016-0628-4130-fb99-daf1bedbd572"
   },
   "outputs": [
    {
     "name": "stdout",
     "output_type": "stream",
     "text": [
      "cuda\n"
     ]
    }
   ],
   "source": [
    "device = torch.device(\"cuda\" if torch.cuda.is_available() else \"cpu\")\n",
    "print(device)"
   ]
  },
  {
   "cell_type": "markdown",
   "metadata": {},
   "source": [
    "### Plugging the Custom Function into Our Dataset\n",
    "\n",
    "Now that we have defined our custom collate functions, we are ready to integrate them into our dataset. To do this, we can use the `partial` function from the `functools` standard library. This allows us to create a version of the collate function that pre-fills certain arguments, making it easier to manage our data processing within the DataLoader.\n",
    "\n",
    "Here's how we can implement this:\n"
   ]
  },
  {
   "cell_type": "code",
   "execution_count": 20,
   "metadata": {
    "colab": {
     "base_uri": "https://localhost:8080/"
    },
    "id": "d4TTTjAnwMUb",
    "outputId": "707575b1-e18c-4b54-be94-7b3240c02e07"
   },
   "outputs": [
    {
     "name": "stdout",
     "output_type": "stream",
     "text": [
      "Train dataloader: 233\n",
      "Validation dataloader: 13\n",
      "Test dataloader: 27\n"
     ]
    }
   ],
   "source": [
    "from functools import partial\n",
    "\n",
    "custom_collate_fn = partial(collate_fn3,\n",
    "                            device=device,\n",
    "                            allowed_max_len=1024)\n",
    "\n",
    "num_workers = 0\n",
    "batch_size = 4\n",
    "\n",
    "train_dataset = InstructionDataset(train_data, tokenizer)\n",
    "val_dataset = InstructionDataset(val_data, tokenizer)\n",
    "test_dataset = InstructionDataset(test_data, tokenizer)\n",
    "\n",
    "train_dataloader = DataLoader(\n",
    "    train_dataset,\n",
    "    collate_fn=custom_collate_fn,\n",
    "    batch_size=batch_size,\n",
    "    shuffle=True,\n",
    "    drop_last=True,\n",
    "    num_workers=num_workers\n",
    ")\n",
    "\n",
    "val_dataloader = DataLoader(\n",
    "    val_dataset,\n",
    "    collate_fn=custom_collate_fn,\n",
    "    batch_size=batch_size,\n",
    "    shuffle=False,\n",
    "    drop_last=True,\n",
    "    num_workers=num_workers\n",
    ")\n",
    "\n",
    "test_dataloader = DataLoader(\n",
    "    test_dataset,\n",
    "    collate_fn=custom_collate_fn,\n",
    "    batch_size=batch_size,\n",
    "    shuffle=False,\n",
    "    drop_last=True,\n",
    "    num_workers=num_workers\n",
    ")\n",
    "\n",
    "print(\"Train dataloader:\", len(train_dataloader))\n",
    "print(\"Validation dataloader:\", len(val_dataloader))\n",
    "print(\"Test dataloader:\", len(test_dataloader))"
   ]
  },
  {
   "cell_type": "markdown",
   "metadata": {},
   "source": [
    "### Unified Batch Size with Variable Tensor Dimensions\n",
    "\n",
    "It is important to note that while the batch size remains unified across the dataset, the other dimensions of the tensors can vary. This variability arises from the preprocessing steps we implemented, which are specifically tailored for instruction fine-tuning.\n",
    "\n",
    "This preprocessing approach is crucial for instruction fine-tuning because:\n",
    "- It allows the model to handle varying lengths of text inputs effectively, which is common in natural language tasks.\n",
    "- It ensures that the model retains relevant context while ignoring non-informative padding tokens during training.\n",
    "\n",
    "By implementing these preprocessing steps, we optimize our dataset for instruction fine-tuning, enabling the model to learn more effectively from diverse input lengths while maintaining a consistent batch size.\n"
   ]
  },
  {
   "cell_type": "code",
   "execution_count": 21,
   "metadata": {
    "colab": {
     "base_uri": "https://localhost:8080/"
    },
    "id": "Y4jgwsv7xgkW",
    "outputId": "82f615af-94f3-4f5b-8bbc-4d76bf3e5c62"
   },
   "outputs": [
    {
     "name": "stdout",
     "output_type": "stream",
     "text": [
      "val Loader:\n",
      "torch.Size([4, 83]) torch.Size([4, 83])\n",
      "torch.Size([4, 50]) torch.Size([4, 50])\n",
      "torch.Size([4, 72]) torch.Size([4, 72])\n",
      "torch.Size([4, 68]) torch.Size([4, 68])\n",
      "torch.Size([4, 64]) torch.Size([4, 64])\n",
      "torch.Size([4, 60]) torch.Size([4, 60])\n",
      "torch.Size([4, 66]) torch.Size([4, 66])\n",
      "torch.Size([4, 68]) torch.Size([4, 68])\n",
      "torch.Size([4, 53]) torch.Size([4, 53])\n",
      "torch.Size([4, 73]) torch.Size([4, 73])\n",
      "torch.Size([4, 67]) torch.Size([4, 67])\n",
      "torch.Size([4, 64]) torch.Size([4, 64])\n",
      "torch.Size([4, 58]) torch.Size([4, 58])\n",
      "Batch size in val_dataloader: 4\n"
     ]
    }
   ],
   "source": [
    "print(\"val Loader:\")\n",
    "for input , target in val_dataloader:\n",
    "    print(input.shape , target.shape)\n",
    "\n",
    "print(\"Batch size in val_dataloader:\", val_dataloader.batch_size)\n"
   ]
  },
  {
   "cell_type": "markdown",
   "metadata": {},
   "source": [
    "## 2. Loading the Pre-trained Model\n",
    "\n",
    "Now that we’ve completed data processing, we can move on to preparing the model and loading pre-trained weights. In this step, we'll apply a different variant of GPT-2—specifically, the 335M parameter model—contrasting with the 124M model used in previous notebooks.\n",
    "\n",
    "### Why the 335M Model?\n",
    "\n",
    "- **Lighter Models for Simpler Tasks**:  \n",
    "  In prior tasks, we used the 124M GPT-2 model due to its smaller size, making it faster for training and more efficient for tasks like basic classification fine-tuning.\n",
    "\n",
    "- **More Demanding Tasks**:  \n",
    "  For this instruction fine-tuning, which is more complex and computationally demanding, we’re opting for the 335M model. This larger model size enables it to handle more nuanced tasks with greater contextual understanding.\n",
    "\n",
    "### Scalability\n",
    "\n",
    "One of the benefits of our approach is scalability. This setup allows for easily switching to larger models (e.g., GPT-2 XL) without extensive reconfiguration—only minor modifications to the configuration are needed. This flexibility makes it straightforward to experiment with models of varying sizes to fit specific use cases.\n"
   ]
  },
  {
   "cell_type": "code",
   "execution_count": null,
   "metadata": {
    "colab": {
     "base_uri": "https://localhost:8080/"
    },
    "id": "tVSc0hn_x2rS",
    "outputId": "9555b940-7fc4-4c57-c729-e838032d89ef"
   },
   "outputs": [
    {
     "name": "stdout",
     "output_type": "stream",
     "text": [
      "File already exists and is up-to-date: gpt2/355M/checkpoint\n",
      "File already exists and is up-to-date: gpt2/355M/encoder.json\n",
      "File already exists and is up-to-date: gpt2/355M/hparams.json\n",
      "File already exists and is up-to-date: gpt2/355M/model.ckpt.data-00000-of-00001\n",
      "File already exists and is up-to-date: gpt2/355M/model.ckpt.index\n",
      "File already exists and is up-to-date: gpt2/355M/model.ckpt.meta\n",
      "File already exists and is up-to-date: gpt2/355M/vocab.bpe\n"
     ]
    },
    {
     "data": {
      "text/plain": [
       "GPTModel(\n",
       "  (tok_emb): Embedding(50257, 1024)\n",
       "  (pos_emb): Embedding(1024, 1024)\n",
       "  (drop_emb): Dropout(p=0.0, inplace=False)\n",
       "  (trf_blocks): Sequential(\n",
       "    (0): TransformerBlock(\n",
       "      (att): MultiHeadAttention(\n",
       "        (W_query): Linear(in_features=1024, out_features=1024, bias=True)\n",
       "        (W_key): Linear(in_features=1024, out_features=1024, bias=True)\n",
       "        (W_value): Linear(in_features=1024, out_features=1024, bias=True)\n",
       "        (out_proj): Linear(in_features=1024, out_features=1024, bias=True)\n",
       "        (dropout): Dropout(p=0.0, inplace=False)\n",
       "      )\n",
       "      (ff): FeedForward(\n",
       "        (layers): Sequential(\n",
       "          (0): Linear(in_features=1024, out_features=4096, bias=True)\n",
       "          (1): GELU()\n",
       "          (2): Linear(in_features=4096, out_features=1024, bias=True)\n",
       "        )\n",
       "      )\n",
       "      (norm1): LayerNorm()\n",
       "      (norm2): LayerNorm()\n",
       "      (drop_resid): Dropout(p=0.0, inplace=False)\n",
       "    )\n",
       "    (1): TransformerBlock(\n",
       "      (att): MultiHeadAttention(\n",
       "        (W_query): Linear(in_features=1024, out_features=1024, bias=True)\n",
       "        (W_key): Linear(in_features=1024, out_features=1024, bias=True)\n",
       "        (W_value): Linear(in_features=1024, out_features=1024, bias=True)\n",
       "        (out_proj): Linear(in_features=1024, out_features=1024, bias=True)\n",
       "        (dropout): Dropout(p=0.0, inplace=False)\n",
       "      )\n",
       "      (ff): FeedForward(\n",
       "        (layers): Sequential(\n",
       "          (0): Linear(in_features=1024, out_features=4096, bias=True)\n",
       "          (1): GELU()\n",
       "          (2): Linear(in_features=4096, out_features=1024, bias=True)\n",
       "        )\n",
       "      )\n",
       "      (norm1): LayerNorm()\n",
       "      (norm2): LayerNorm()\n",
       "      (drop_resid): Dropout(p=0.0, inplace=False)\n",
       "    )\n",
       "    (2): TransformerBlock(\n",
       "      (att): MultiHeadAttention(\n",
       "        (W_query): Linear(in_features=1024, out_features=1024, bias=True)\n",
       "        (W_key): Linear(in_features=1024, out_features=1024, bias=True)\n",
       "        (W_value): Linear(in_features=1024, out_features=1024, bias=True)\n",
       "        (out_proj): Linear(in_features=1024, out_features=1024, bias=True)\n",
       "        (dropout): Dropout(p=0.0, inplace=False)\n",
       "      )\n",
       "      (ff): FeedForward(\n",
       "        (layers): Sequential(\n",
       "          (0): Linear(in_features=1024, out_features=4096, bias=True)\n",
       "          (1): GELU()\n",
       "          (2): Linear(in_features=4096, out_features=1024, bias=True)\n",
       "        )\n",
       "      )\n",
       "      (norm1): LayerNorm()\n",
       "      (norm2): LayerNorm()\n",
       "      (drop_resid): Dropout(p=0.0, inplace=False)\n",
       "    )\n",
       "    (3): TransformerBlock(\n",
       "      (att): MultiHeadAttention(\n",
       "        (W_query): Linear(in_features=1024, out_features=1024, bias=True)\n",
       "        (W_key): Linear(in_features=1024, out_features=1024, bias=True)\n",
       "        (W_value): Linear(in_features=1024, out_features=1024, bias=True)\n",
       "        (out_proj): Linear(in_features=1024, out_features=1024, bias=True)\n",
       "        (dropout): Dropout(p=0.0, inplace=False)\n",
       "      )\n",
       "      (ff): FeedForward(\n",
       "        (layers): Sequential(\n",
       "          (0): Linear(in_features=1024, out_features=4096, bias=True)\n",
       "          (1): GELU()\n",
       "          (2): Linear(in_features=4096, out_features=1024, bias=True)\n",
       "        )\n",
       "      )\n",
       "      (norm1): LayerNorm()\n",
       "      (norm2): LayerNorm()\n",
       "      (drop_resid): Dropout(p=0.0, inplace=False)\n",
       "    )\n",
       "    (4): TransformerBlock(\n",
       "      (att): MultiHeadAttention(\n",
       "        (W_query): Linear(in_features=1024, out_features=1024, bias=True)\n",
       "        (W_key): Linear(in_features=1024, out_features=1024, bias=True)\n",
       "        (W_value): Linear(in_features=1024, out_features=1024, bias=True)\n",
       "        (out_proj): Linear(in_features=1024, out_features=1024, bias=True)\n",
       "        (dropout): Dropout(p=0.0, inplace=False)\n",
       "      )\n",
       "      (ff): FeedForward(\n",
       "        (layers): Sequential(\n",
       "          (0): Linear(in_features=1024, out_features=4096, bias=True)\n",
       "          (1): GELU()\n",
       "          (2): Linear(in_features=4096, out_features=1024, bias=True)\n",
       "        )\n",
       "      )\n",
       "      (norm1): LayerNorm()\n",
       "      (norm2): LayerNorm()\n",
       "      (drop_resid): Dropout(p=0.0, inplace=False)\n",
       "    )\n",
       "    (5): TransformerBlock(\n",
       "      (att): MultiHeadAttention(\n",
       "        (W_query): Linear(in_features=1024, out_features=1024, bias=True)\n",
       "        (W_key): Linear(in_features=1024, out_features=1024, bias=True)\n",
       "        (W_value): Linear(in_features=1024, out_features=1024, bias=True)\n",
       "        (out_proj): Linear(in_features=1024, out_features=1024, bias=True)\n",
       "        (dropout): Dropout(p=0.0, inplace=False)\n",
       "      )\n",
       "      (ff): FeedForward(\n",
       "        (layers): Sequential(\n",
       "          (0): Linear(in_features=1024, out_features=4096, bias=True)\n",
       "          (1): GELU()\n",
       "          (2): Linear(in_features=4096, out_features=1024, bias=True)\n",
       "        )\n",
       "      )\n",
       "      (norm1): LayerNorm()\n",
       "      (norm2): LayerNorm()\n",
       "      (drop_resid): Dropout(p=0.0, inplace=False)\n",
       "    )\n",
       "    (6): TransformerBlock(\n",
       "      (att): MultiHeadAttention(\n",
       "        (W_query): Linear(in_features=1024, out_features=1024, bias=True)\n",
       "        (W_key): Linear(in_features=1024, out_features=1024, bias=True)\n",
       "        (W_value): Linear(in_features=1024, out_features=1024, bias=True)\n",
       "        (out_proj): Linear(in_features=1024, out_features=1024, bias=True)\n",
       "        (dropout): Dropout(p=0.0, inplace=False)\n",
       "      )\n",
       "      (ff): FeedForward(\n",
       "        (layers): Sequential(\n",
       "          (0): Linear(in_features=1024, out_features=4096, bias=True)\n",
       "          (1): GELU()\n",
       "          (2): Linear(in_features=4096, out_features=1024, bias=True)\n",
       "        )\n",
       "      )\n",
       "      (norm1): LayerNorm()\n",
       "      (norm2): LayerNorm()\n",
       "      (drop_resid): Dropout(p=0.0, inplace=False)\n",
       "    )\n",
       "    (7): TransformerBlock(\n",
       "      (att): MultiHeadAttention(\n",
       "        (W_query): Linear(in_features=1024, out_features=1024, bias=True)\n",
       "        (W_key): Linear(in_features=1024, out_features=1024, bias=True)\n",
       "        (W_value): Linear(in_features=1024, out_features=1024, bias=True)\n",
       "        (out_proj): Linear(in_features=1024, out_features=1024, bias=True)\n",
       "        (dropout): Dropout(p=0.0, inplace=False)\n",
       "      )\n",
       "      (ff): FeedForward(\n",
       "        (layers): Sequential(\n",
       "          (0): Linear(in_features=1024, out_features=4096, bias=True)\n",
       "          (1): GELU()\n",
       "          (2): Linear(in_features=4096, out_features=1024, bias=True)\n",
       "        )\n",
       "      )\n",
       "      (norm1): LayerNorm()\n",
       "      (norm2): LayerNorm()\n",
       "      (drop_resid): Dropout(p=0.0, inplace=False)\n",
       "    )\n",
       "    (8): TransformerBlock(\n",
       "      (att): MultiHeadAttention(\n",
       "        (W_query): Linear(in_features=1024, out_features=1024, bias=True)\n",
       "        (W_key): Linear(in_features=1024, out_features=1024, bias=True)\n",
       "        (W_value): Linear(in_features=1024, out_features=1024, bias=True)\n",
       "        (out_proj): Linear(in_features=1024, out_features=1024, bias=True)\n",
       "        (dropout): Dropout(p=0.0, inplace=False)\n",
       "      )\n",
       "      (ff): FeedForward(\n",
       "        (layers): Sequential(\n",
       "          (0): Linear(in_features=1024, out_features=4096, bias=True)\n",
       "          (1): GELU()\n",
       "          (2): Linear(in_features=4096, out_features=1024, bias=True)\n",
       "        )\n",
       "      )\n",
       "      (norm1): LayerNorm()\n",
       "      (norm2): LayerNorm()\n",
       "      (drop_resid): Dropout(p=0.0, inplace=False)\n",
       "    )\n",
       "    (9): TransformerBlock(\n",
       "      (att): MultiHeadAttention(\n",
       "        (W_query): Linear(in_features=1024, out_features=1024, bias=True)\n",
       "        (W_key): Linear(in_features=1024, out_features=1024, bias=True)\n",
       "        (W_value): Linear(in_features=1024, out_features=1024, bias=True)\n",
       "        (out_proj): Linear(in_features=1024, out_features=1024, bias=True)\n",
       "        (dropout): Dropout(p=0.0, inplace=False)\n",
       "      )\n",
       "      (ff): FeedForward(\n",
       "        (layers): Sequential(\n",
       "          (0): Linear(in_features=1024, out_features=4096, bias=True)\n",
       "          (1): GELU()\n",
       "          (2): Linear(in_features=4096, out_features=1024, bias=True)\n",
       "        )\n",
       "      )\n",
       "      (norm1): LayerNorm()\n",
       "      (norm2): LayerNorm()\n",
       "      (drop_resid): Dropout(p=0.0, inplace=False)\n",
       "    )\n",
       "    (10): TransformerBlock(\n",
       "      (att): MultiHeadAttention(\n",
       "        (W_query): Linear(in_features=1024, out_features=1024, bias=True)\n",
       "        (W_key): Linear(in_features=1024, out_features=1024, bias=True)\n",
       "        (W_value): Linear(in_features=1024, out_features=1024, bias=True)\n",
       "        (out_proj): Linear(in_features=1024, out_features=1024, bias=True)\n",
       "        (dropout): Dropout(p=0.0, inplace=False)\n",
       "      )\n",
       "      (ff): FeedForward(\n",
       "        (layers): Sequential(\n",
       "          (0): Linear(in_features=1024, out_features=4096, bias=True)\n",
       "          (1): GELU()\n",
       "          (2): Linear(in_features=4096, out_features=1024, bias=True)\n",
       "        )\n",
       "      )\n",
       "      (norm1): LayerNorm()\n",
       "      (norm2): LayerNorm()\n",
       "      (drop_resid): Dropout(p=0.0, inplace=False)\n",
       "    )\n",
       "    (11): TransformerBlock(\n",
       "      (att): MultiHeadAttention(\n",
       "        (W_query): Linear(in_features=1024, out_features=1024, bias=True)\n",
       "        (W_key): Linear(in_features=1024, out_features=1024, bias=True)\n",
       "        (W_value): Linear(in_features=1024, out_features=1024, bias=True)\n",
       "        (out_proj): Linear(in_features=1024, out_features=1024, bias=True)\n",
       "        (dropout): Dropout(p=0.0, inplace=False)\n",
       "      )\n",
       "      (ff): FeedForward(\n",
       "        (layers): Sequential(\n",
       "          (0): Linear(in_features=1024, out_features=4096, bias=True)\n",
       "          (1): GELU()\n",
       "          (2): Linear(in_features=4096, out_features=1024, bias=True)\n",
       "        )\n",
       "      )\n",
       "      (norm1): LayerNorm()\n",
       "      (norm2): LayerNorm()\n",
       "      (drop_resid): Dropout(p=0.0, inplace=False)\n",
       "    )\n",
       "    (12): TransformerBlock(\n",
       "      (att): MultiHeadAttention(\n",
       "        (W_query): Linear(in_features=1024, out_features=1024, bias=True)\n",
       "        (W_key): Linear(in_features=1024, out_features=1024, bias=True)\n",
       "        (W_value): Linear(in_features=1024, out_features=1024, bias=True)\n",
       "        (out_proj): Linear(in_features=1024, out_features=1024, bias=True)\n",
       "        (dropout): Dropout(p=0.0, inplace=False)\n",
       "      )\n",
       "      (ff): FeedForward(\n",
       "        (layers): Sequential(\n",
       "          (0): Linear(in_features=1024, out_features=4096, bias=True)\n",
       "          (1): GELU()\n",
       "          (2): Linear(in_features=4096, out_features=1024, bias=True)\n",
       "        )\n",
       "      )\n",
       "      (norm1): LayerNorm()\n",
       "      (norm2): LayerNorm()\n",
       "      (drop_resid): Dropout(p=0.0, inplace=False)\n",
       "    )\n",
       "    (13): TransformerBlock(\n",
       "      (att): MultiHeadAttention(\n",
       "        (W_query): Linear(in_features=1024, out_features=1024, bias=True)\n",
       "        (W_key): Linear(in_features=1024, out_features=1024, bias=True)\n",
       "        (W_value): Linear(in_features=1024, out_features=1024, bias=True)\n",
       "        (out_proj): Linear(in_features=1024, out_features=1024, bias=True)\n",
       "        (dropout): Dropout(p=0.0, inplace=False)\n",
       "      )\n",
       "      (ff): FeedForward(\n",
       "        (layers): Sequential(\n",
       "          (0): Linear(in_features=1024, out_features=4096, bias=True)\n",
       "          (1): GELU()\n",
       "          (2): Linear(in_features=4096, out_features=1024, bias=True)\n",
       "        )\n",
       "      )\n",
       "      (norm1): LayerNorm()\n",
       "      (norm2): LayerNorm()\n",
       "      (drop_resid): Dropout(p=0.0, inplace=False)\n",
       "    )\n",
       "    (14): TransformerBlock(\n",
       "      (att): MultiHeadAttention(\n",
       "        (W_query): Linear(in_features=1024, out_features=1024, bias=True)\n",
       "        (W_key): Linear(in_features=1024, out_features=1024, bias=True)\n",
       "        (W_value): Linear(in_features=1024, out_features=1024, bias=True)\n",
       "        (out_proj): Linear(in_features=1024, out_features=1024, bias=True)\n",
       "        (dropout): Dropout(p=0.0, inplace=False)\n",
       "      )\n",
       "      (ff): FeedForward(\n",
       "        (layers): Sequential(\n",
       "          (0): Linear(in_features=1024, out_features=4096, bias=True)\n",
       "          (1): GELU()\n",
       "          (2): Linear(in_features=4096, out_features=1024, bias=True)\n",
       "        )\n",
       "      )\n",
       "      (norm1): LayerNorm()\n",
       "      (norm2): LayerNorm()\n",
       "      (drop_resid): Dropout(p=0.0, inplace=False)\n",
       "    )\n",
       "    (15): TransformerBlock(\n",
       "      (att): MultiHeadAttention(\n",
       "        (W_query): Linear(in_features=1024, out_features=1024, bias=True)\n",
       "        (W_key): Linear(in_features=1024, out_features=1024, bias=True)\n",
       "        (W_value): Linear(in_features=1024, out_features=1024, bias=True)\n",
       "        (out_proj): Linear(in_features=1024, out_features=1024, bias=True)\n",
       "        (dropout): Dropout(p=0.0, inplace=False)\n",
       "      )\n",
       "      (ff): FeedForward(\n",
       "        (layers): Sequential(\n",
       "          (0): Linear(in_features=1024, out_features=4096, bias=True)\n",
       "          (1): GELU()\n",
       "          (2): Linear(in_features=4096, out_features=1024, bias=True)\n",
       "        )\n",
       "      )\n",
       "      (norm1): LayerNorm()\n",
       "      (norm2): LayerNorm()\n",
       "      (drop_resid): Dropout(p=0.0, inplace=False)\n",
       "    )\n",
       "    (16): TransformerBlock(\n",
       "      (att): MultiHeadAttention(\n",
       "        (W_query): Linear(in_features=1024, out_features=1024, bias=True)\n",
       "        (W_key): Linear(in_features=1024, out_features=1024, bias=True)\n",
       "        (W_value): Linear(in_features=1024, out_features=1024, bias=True)\n",
       "        (out_proj): Linear(in_features=1024, out_features=1024, bias=True)\n",
       "        (dropout): Dropout(p=0.0, inplace=False)\n",
       "      )\n",
       "      (ff): FeedForward(\n",
       "        (layers): Sequential(\n",
       "          (0): Linear(in_features=1024, out_features=4096, bias=True)\n",
       "          (1): GELU()\n",
       "          (2): Linear(in_features=4096, out_features=1024, bias=True)\n",
       "        )\n",
       "      )\n",
       "      (norm1): LayerNorm()\n",
       "      (norm2): LayerNorm()\n",
       "      (drop_resid): Dropout(p=0.0, inplace=False)\n",
       "    )\n",
       "    (17): TransformerBlock(\n",
       "      (att): MultiHeadAttention(\n",
       "        (W_query): Linear(in_features=1024, out_features=1024, bias=True)\n",
       "        (W_key): Linear(in_features=1024, out_features=1024, bias=True)\n",
       "        (W_value): Linear(in_features=1024, out_features=1024, bias=True)\n",
       "        (out_proj): Linear(in_features=1024, out_features=1024, bias=True)\n",
       "        (dropout): Dropout(p=0.0, inplace=False)\n",
       "      )\n",
       "      (ff): FeedForward(\n",
       "        (layers): Sequential(\n",
       "          (0): Linear(in_features=1024, out_features=4096, bias=True)\n",
       "          (1): GELU()\n",
       "          (2): Linear(in_features=4096, out_features=1024, bias=True)\n",
       "        )\n",
       "      )\n",
       "      (norm1): LayerNorm()\n",
       "      (norm2): LayerNorm()\n",
       "      (drop_resid): Dropout(p=0.0, inplace=False)\n",
       "    )\n",
       "    (18): TransformerBlock(\n",
       "      (att): MultiHeadAttention(\n",
       "        (W_query): Linear(in_features=1024, out_features=1024, bias=True)\n",
       "        (W_key): Linear(in_features=1024, out_features=1024, bias=True)\n",
       "        (W_value): Linear(in_features=1024, out_features=1024, bias=True)\n",
       "        (out_proj): Linear(in_features=1024, out_features=1024, bias=True)\n",
       "        (dropout): Dropout(p=0.0, inplace=False)\n",
       "      )\n",
       "      (ff): FeedForward(\n",
       "        (layers): Sequential(\n",
       "          (0): Linear(in_features=1024, out_features=4096, bias=True)\n",
       "          (1): GELU()\n",
       "          (2): Linear(in_features=4096, out_features=1024, bias=True)\n",
       "        )\n",
       "      )\n",
       "      (norm1): LayerNorm()\n",
       "      (norm2): LayerNorm()\n",
       "      (drop_resid): Dropout(p=0.0, inplace=False)\n",
       "    )\n",
       "    (19): TransformerBlock(\n",
       "      (att): MultiHeadAttention(\n",
       "        (W_query): Linear(in_features=1024, out_features=1024, bias=True)\n",
       "        (W_key): Linear(in_features=1024, out_features=1024, bias=True)\n",
       "        (W_value): Linear(in_features=1024, out_features=1024, bias=True)\n",
       "        (out_proj): Linear(in_features=1024, out_features=1024, bias=True)\n",
       "        (dropout): Dropout(p=0.0, inplace=False)\n",
       "      )\n",
       "      (ff): FeedForward(\n",
       "        (layers): Sequential(\n",
       "          (0): Linear(in_features=1024, out_features=4096, bias=True)\n",
       "          (1): GELU()\n",
       "          (2): Linear(in_features=4096, out_features=1024, bias=True)\n",
       "        )\n",
       "      )\n",
       "      (norm1): LayerNorm()\n",
       "      (norm2): LayerNorm()\n",
       "      (drop_resid): Dropout(p=0.0, inplace=False)\n",
       "    )\n",
       "    (20): TransformerBlock(\n",
       "      (att): MultiHeadAttention(\n",
       "        (W_query): Linear(in_features=1024, out_features=1024, bias=True)\n",
       "        (W_key): Linear(in_features=1024, out_features=1024, bias=True)\n",
       "        (W_value): Linear(in_features=1024, out_features=1024, bias=True)\n",
       "        (out_proj): Linear(in_features=1024, out_features=1024, bias=True)\n",
       "        (dropout): Dropout(p=0.0, inplace=False)\n",
       "      )\n",
       "      (ff): FeedForward(\n",
       "        (layers): Sequential(\n",
       "          (0): Linear(in_features=1024, out_features=4096, bias=True)\n",
       "          (1): GELU()\n",
       "          (2): Linear(in_features=4096, out_features=1024, bias=True)\n",
       "        )\n",
       "      )\n",
       "      (norm1): LayerNorm()\n",
       "      (norm2): LayerNorm()\n",
       "      (drop_resid): Dropout(p=0.0, inplace=False)\n",
       "    )\n",
       "    (21): TransformerBlock(\n",
       "      (att): MultiHeadAttention(\n",
       "        (W_query): Linear(in_features=1024, out_features=1024, bias=True)\n",
       "        (W_key): Linear(in_features=1024, out_features=1024, bias=True)\n",
       "        (W_value): Linear(in_features=1024, out_features=1024, bias=True)\n",
       "        (out_proj): Linear(in_features=1024, out_features=1024, bias=True)\n",
       "        (dropout): Dropout(p=0.0, inplace=False)\n",
       "      )\n",
       "      (ff): FeedForward(\n",
       "        (layers): Sequential(\n",
       "          (0): Linear(in_features=1024, out_features=4096, bias=True)\n",
       "          (1): GELU()\n",
       "          (2): Linear(in_features=4096, out_features=1024, bias=True)\n",
       "        )\n",
       "      )\n",
       "      (norm1): LayerNorm()\n",
       "      (norm2): LayerNorm()\n",
       "      (drop_resid): Dropout(p=0.0, inplace=False)\n",
       "    )\n",
       "    (22): TransformerBlock(\n",
       "      (att): MultiHeadAttention(\n",
       "        (W_query): Linear(in_features=1024, out_features=1024, bias=True)\n",
       "        (W_key): Linear(in_features=1024, out_features=1024, bias=True)\n",
       "        (W_value): Linear(in_features=1024, out_features=1024, bias=True)\n",
       "        (out_proj): Linear(in_features=1024, out_features=1024, bias=True)\n",
       "        (dropout): Dropout(p=0.0, inplace=False)\n",
       "      )\n",
       "      (ff): FeedForward(\n",
       "        (layers): Sequential(\n",
       "          (0): Linear(in_features=1024, out_features=4096, bias=True)\n",
       "          (1): GELU()\n",
       "          (2): Linear(in_features=4096, out_features=1024, bias=True)\n",
       "        )\n",
       "      )\n",
       "      (norm1): LayerNorm()\n",
       "      (norm2): LayerNorm()\n",
       "      (drop_resid): Dropout(p=0.0, inplace=False)\n",
       "    )\n",
       "    (23): TransformerBlock(\n",
       "      (att): MultiHeadAttention(\n",
       "        (W_query): Linear(in_features=1024, out_features=1024, bias=True)\n",
       "        (W_key): Linear(in_features=1024, out_features=1024, bias=True)\n",
       "        (W_value): Linear(in_features=1024, out_features=1024, bias=True)\n",
       "        (out_proj): Linear(in_features=1024, out_features=1024, bias=True)\n",
       "        (dropout): Dropout(p=0.0, inplace=False)\n",
       "      )\n",
       "      (ff): FeedForward(\n",
       "        (layers): Sequential(\n",
       "          (0): Linear(in_features=1024, out_features=4096, bias=True)\n",
       "          (1): GELU()\n",
       "          (2): Linear(in_features=4096, out_features=1024, bias=True)\n",
       "        )\n",
       "      )\n",
       "      (norm1): LayerNorm()\n",
       "      (norm2): LayerNorm()\n",
       "      (drop_resid): Dropout(p=0.0, inplace=False)\n",
       "    )\n",
       "  )\n",
       "  (final_norm): LayerNorm()\n",
       "  (out_head): Linear(in_features=1024, out_features=50257, bias=False)\n",
       ")"
      ]
     },
     "execution_count": 52,
     "metadata": {},
     "output_type": "execute_result"
    }
   ],
   "source": [
    "from UTILS.model import GPTModel \n",
    "from UTILS.load_weights import download_and_load_gpt2 , load_weights_into_gpt , text_to_tokens_ids, token_ids_to_text \n",
    "from UTILS.finetune_utils import trainerV1\n",
    "\n",
    "# Base configuration for GPT-2 model\n",
    "BASE_CONFIG = {\n",
    "    \"vocab_size\": 50257,       # Vocabulary size\n",
    "    \"context_length\": 1024,     # Context length for the model\n",
    "    \"drop_rate\": 0.0,           # Dropout rate\n",
    "    \"qkv_bias\": True            # Bias term in query-key-value mechanism\n",
    "}\n",
    "\n",
    "# Different configurations for GPT-2 model variants\n",
    "model_configs = {\n",
    "    \"gpt2-small (124M)\": {\"emb_dim\": 768, \"n_layers\": 12, \"n_heads\": 12},\n",
    "    \"gpt2-medium (355M)\": {\"emb_dim\": 1024, \"n_layers\": 24, \"n_heads\": 16},\n",
    "    \"gpt2-large (774M)\": {\"emb_dim\": 1280, \"n_layers\": 36, \"n_heads\": 20},\n",
    "    \"gpt2-xl (1558M)\": {\"emb_dim\": 1600, \"n_layers\": 48, \"n_heads\": 25},\n",
    "}\n",
    "\n",
    "# Select the model variant\n",
    "CHOOSE_MODEL = \"gpt2-medium (355M)\"\n",
    "BASE_CONFIG.update(model_configs[CHOOSE_MODEL])  # Update base config with selected model's settings\n",
    "\n",
    "# Extract model size for downloading parameters\n",
    "model_size = CHOOSE_MODEL.split(\" \")[-1].strip(\"()\")\n",
    "\n",
    "# Download and load model parameters\n",
    "settings, params = download_and_load_gpt2(\n",
    "    model_size=model_size,\n",
    "    models_dir=\"gpt2\"\n",
    ")\n",
    "\n",
    "# Initialize the model and load weights\n",
    "model = GPTModel(BASE_CONFIG)\n",
    "load_weights_into_gpt(model, params)\n",
    "model.eval()  # Set model to evaluation mode\n"
   ]
  },
  {
   "cell_type": "markdown",
   "metadata": {},
   "source": [
    "## 3. Fine-Tuning the Model for Instruction Following\n",
    "\n",
    "The process of fine-tuning our model for instruction-following shares many similarities with the standard training process, as detailed in previous notebooks. For this task, we will reuse key components from our previous implementations, including:\n",
    "\n",
    "1. Generation Functions**  \n",
    "   These will help us monitor the training process and assess model performance.\n",
    "\n",
    "2. **Training Loop (TrainerV1)**  \n",
    "   Given that we intend to train for only a small number of epochs, we’re opting for a straightforward training loop (TrainerV1). This simplified approach is effective for quick fine-tuning. For more complex tasks, like training a model from scratch, a more advanced training loop would be necessary to stabilize the process using advanced techniques.\n",
    "\n",
    "This efficient setup allows us to focus on the essentials without overcomplicating the fine-tuning process.\n"
   ]
  },
  {
   "cell_type": "markdown",
   "metadata": {},
   "source": [
    "Now lets train the model for couple epochs :\n",
    "\n",
    "<p align=\"center\">\n",
    "    <img src=\"images/gpu_table.png\" alt=\"My Image\" />\n",
    "</p>"
   ]
  },
  {
   "cell_type": "code",
   "execution_count": 28,
   "metadata": {
    "colab": {
     "base_uri": "https://localhost:8080/"
    },
    "id": "fEdRk26aAdOE",
    "outputId": "b0e79af2-3b74-4ffb-d8c2-efbe26826c94"
   },
   "outputs": [
    {
     "name": "stdout",
     "output_type": "stream",
     "text": [
      "Ep 1 (Step 000000): Train loss 4.062, Val loss 4.065\n",
      "Ep 1 (Step 000005): Train loss 1.439, Val loss 1.552\n",
      "Ep 1 (Step 000010): Train loss 1.254, Val loss 1.261\n",
      "Ep 1 (Step 000015): Train loss 0.947, Val loss 1.140\n",
      "Ep 1 (Step 000020): Train loss 0.990, Val loss 1.138\n",
      "Ep 1 (Step 000025): Train loss 1.353, Val loss 1.279\n",
      "Ep 1 (Step 000030): Train loss 1.217, Val loss 1.294\n",
      "Ep 1 (Step 000035): Train loss 0.903, Val loss 1.150\n",
      "Ep 1 (Step 000040): Train loss 0.861, Val loss 1.115\n",
      "Ep 1 (Step 000045): Train loss 1.132, Val loss 1.116\n",
      "Ep 1 (Step 000050): Train loss 0.823, Val loss 1.132\n",
      "Ep 1 (Step 000055): Train loss 0.946, Val loss 1.070\n",
      "Ep 1 (Step 000060): Train loss 0.712, Val loss 1.041\n",
      "Ep 1 (Step 000065): Train loss 0.956, Val loss 0.987\n",
      "Ep 1 (Step 000070): Train loss 0.820, Val loss 0.993\n",
      "Ep 1 (Step 000075): Train loss 0.807, Val loss 1.005\n",
      "Ep 1 (Step 000080): Train loss 0.660, Val loss 1.003\n",
      "Ep 1 (Step 000085): Train loss 0.636, Val loss 1.017\n",
      "Ep 1 (Step 000090): Train loss 0.949, Val loss 1.037\n",
      "Ep 1 (Step 000095): Train loss 0.637, Val loss 1.046\n",
      "Ep 1 (Step 000100): Train loss 0.642, Val loss 1.063\n",
      "Ep 1 (Step 000105): Train loss 0.855, Val loss 1.086\n",
      "Ep 1 (Step 000110): Train loss 0.718, Val loss 1.048\n",
      "Ep 1 (Step 000115): Train loss 0.646, Val loss 1.077\n",
      "Ep 1 (Step 000120): Train loss 0.830, Val loss 1.044\n",
      "Ep 1 (Step 000125): Train loss 0.714, Val loss 1.041\n",
      "Ep 1 (Step 000130): Train loss 0.810, Val loss 1.039\n",
      "Ep 1 (Step 000135): Train loss 0.571, Val loss 0.987\n",
      "Ep 1 (Step 000140): Train loss 0.821, Val loss 0.997\n",
      "Ep 1 (Step 000145): Train loss 0.590, Val loss 0.938\n",
      "Ep 1 (Step 000150): Train loss 0.705, Val loss 0.913\n",
      "Ep 1 (Step 000155): Train loss 0.518, Val loss 0.912\n",
      "Ep 1 (Step 000160): Train loss 0.683, Val loss 0.923\n",
      "Ep 1 (Step 000165): Train loss 0.592, Val loss 0.923\n",
      "Ep 1 (Step 000170): Train loss 0.712, Val loss 0.956\n",
      "Ep 1 (Step 000175): Train loss 0.685, Val loss 0.963\n",
      "Ep 1 (Step 000180): Train loss 0.619, Val loss 1.021\n",
      "Ep 1 (Step 000185): Train loss 0.654, Val loss 1.003\n",
      "Ep 1 (Step 000190): Train loss 0.645, Val loss 0.992\n",
      "Ep 1 (Step 000195): Train loss 0.629, Val loss 0.998\n",
      "Ep 1 (Step 000200): Train loss 0.540, Val loss 0.995\n",
      "Ep 1 (Step 000205): Train loss 0.601, Val loss 0.995\n",
      "Ep 1 (Step 000210): Train loss 0.691, Val loss 0.982\n",
      "Ep 1 (Step 000215): Train loss 0.544, Val loss 0.985\n",
      "Ep 1 (Step 000220): Train loss 0.504, Val loss 1.000\n",
      "Ep 1 (Step 000225): Train loss 0.494, Val loss 1.005\n",
      "Ep 1 (Step 000230): Train loss 0.504, Val loss 0.994\n",
      "Below is an instruction that describes a task. Write a response that appropriately completes the request.  ### Instruction: Generate a sentence using the word 'innovative'.  ### Response: The company aims to innovate by developing new technologies and technologies.<|endoftext|>  ### Response: The company aims to innovate by developing new technologies and technologies.<|endoftext|>  ### Response: The new technologies and technologies are\n",
      "Ep 2 (Step 000235): Train loss 0.515, Val loss 0.981\n",
      "Ep 2 (Step 000240): Train loss 0.396, Val loss 1.015\n",
      "Ep 2 (Step 000245): Train loss 0.507, Val loss 1.020\n",
      "Ep 2 (Step 000250): Train loss 0.475, Val loss 1.009\n",
      "Ep 2 (Step 000255): Train loss 0.392, Val loss 1.021\n",
      "Ep 2 (Step 000260): Train loss 0.524, Val loss 1.023\n",
      "Ep 2 (Step 000265): Train loss 0.479, Val loss 1.074\n",
      "Ep 2 (Step 000270): Train loss 0.527, Val loss 1.077\n",
      "Ep 2 (Step 000275): Train loss 0.456, Val loss 1.034\n",
      "Ep 2 (Step 000280): Train loss 0.517, Val loss 1.023\n",
      "Ep 2 (Step 000285): Train loss 0.559, Val loss 1.036\n",
      "Ep 2 (Step 000290): Train loss 0.433, Val loss 1.042\n",
      "Ep 2 (Step 000295): Train loss 0.467, Val loss 1.065\n",
      "Ep 2 (Step 000300): Train loss 0.535, Val loss 1.060\n",
      "Ep 2 (Step 000305): Train loss 0.585, Val loss 1.102\n",
      "Ep 2 (Step 000310): Train loss 0.575, Val loss 1.098\n",
      "Ep 2 (Step 000315): Train loss 0.504, Val loss 1.087\n",
      "Ep 2 (Step 000320): Train loss 0.444, Val loss 1.067\n",
      "Ep 2 (Step 000325): Train loss 0.496, Val loss 1.078\n",
      "Ep 2 (Step 000330): Train loss 0.426, Val loss 1.114\n",
      "Ep 2 (Step 000335): Train loss 0.503, Val loss 1.141\n",
      "Ep 2 (Step 000340): Train loss 0.441, Val loss 1.126\n",
      "Ep 2 (Step 000345): Train loss 0.421, Val loss 1.108\n",
      "Ep 2 (Step 000350): Train loss 0.335, Val loss 1.092\n",
      "Ep 2 (Step 000355): Train loss 0.507, Val loss 1.062\n",
      "Ep 2 (Step 000360): Train loss 0.425, Val loss 1.058\n",
      "Ep 2 (Step 000365): Train loss 0.393, Val loss 1.071\n",
      "Ep 2 (Step 000370): Train loss 0.471, Val loss 1.056\n",
      "Ep 2 (Step 000375): Train loss 0.467, Val loss 1.065\n",
      "Ep 2 (Step 000380): Train loss 0.442, Val loss 1.100\n",
      "Ep 2 (Step 000385): Train loss 0.429, Val loss 1.132\n",
      "Ep 2 (Step 000390): Train loss 0.463, Val loss 1.123\n",
      "Ep 2 (Step 000395): Train loss 0.374, Val loss 1.122\n",
      "Ep 2 (Step 000400): Train loss 0.372, Val loss 1.130\n",
      "Ep 2 (Step 000405): Train loss 0.359, Val loss 1.069\n",
      "Ep 2 (Step 000410): Train loss 0.388, Val loss 1.077\n",
      "Ep 2 (Step 000415): Train loss 0.369, Val loss 1.069\n",
      "Ep 2 (Step 000420): Train loss 0.400, Val loss 1.062\n",
      "Ep 2 (Step 000425): Train loss 0.401, Val loss 1.047\n",
      "Ep 2 (Step 000430): Train loss 0.390, Val loss 1.036\n",
      "Ep 2 (Step 000435): Train loss 0.313, Val loss 1.051\n",
      "Ep 2 (Step 000440): Train loss 0.340, Val loss 1.075\n",
      "Ep 2 (Step 000445): Train loss 0.352, Val loss 1.091\n",
      "Ep 2 (Step 000450): Train loss 0.304, Val loss 1.080\n",
      "Ep 2 (Step 000455): Train loss 0.330, Val loss 1.041\n",
      "Ep 2 (Step 000460): Train loss 0.328, Val loss 1.017\n",
      "Ep 2 (Step 000465): Train loss 0.344, Val loss 1.012\n",
      "Below is an instruction that describes a task. Write a response that appropriately completes the request.  ### Instruction: Generate a sentence using the word 'innovative'.  ### Response: The company aims to innovate by developing new and sustainable technologies.<|endoftext|> ### Response: The new and sustainable technologies are developing rapidly.<|endoftext|> ### Response: The new and sustainable technologies are developing rapidly.<|endoftext|> \n",
      "Training completed in 3.79 minutes.\n"
     ]
    }
   ],
   "source": [
    "# Note:\n",
    "# Uncomment the following code to calculate the execution time\n",
    "import time\n",
    "\n",
    "# Start the timer to measure execution time\n",
    "start_time = time.time()\n",
    "\n",
    "# Set device to GPU if available; otherwise, use CPU\n",
    "device = \"cuda\" if torch.cuda.is_available() else \"cpu\"\n",
    "\n",
    "# Set a manual seed for reproducibility\n",
    "torch.manual_seed(123)\n",
    "\n",
    "# Initialize the model and move it to the specified device\n",
    "model.to(device)\n",
    "\n",
    "# Set up the AdamW optimizer with specified learning rate and weight decay\n",
    "optimizer = torch.optim.AdamW(model.parameters(), lr=0.0005, weight_decay=0.1)\n",
    "\n",
    "# Initialize the tokenizer for encoding and decoding text\n",
    "tok = tiktoken.encoding_for_model(\"gpt2\")\n",
    "\n",
    "# Define the number of epochs for training\n",
    "num_epochs = 2\n",
    "\n",
    "# Call the training function and store the resulting losses and tokens seen\n",
    "train_losses1, val_losses1, tokens_seen1 = trainerV1(\n",
    "    model,\n",
    "    train_dataloader,\n",
    "    val_dataloader,\n",
    "    optimizer,\n",
    "    device,\n",
    "    num_epochs=num_epochs,\n",
    "    eval_freq=5,  # Evaluate every 5 steps\n",
    "    eval_iter=5,  # Use 5 batches for evaluation\n",
    "    start_context=format_input(val_data[0]),  # Initial context for text generation\n",
    "    tokenizer=tok  # Tokenizer for text processing\n",
    ")\n",
    "\n",
    "# Note:\n",
    "# Uncomment the following code to show the execution time\n",
    "end_time = time.time()\n",
    "\n",
    "# Calculate the total execution time in minutes\n",
    "execution_time_minutes = (end_time - start_time) / 60\n",
    "print(f\"Training completed in {execution_time_minutes:.2f} minutes.\")\n"
   ]
  },
  {
   "cell_type": "markdown",
   "metadata": {},
   "source": [
    "The training output shows that the model is learning effectively, as we can tell based\n",
    "on the consistently decreasing training and validation loss values over the two epochs.\n",
    "This result suggests that the model is gradually improving its ability to understand and\n",
    "follow the provided instructions"
   ]
  },
  {
   "cell_type": "code",
   "execution_count": null,
   "metadata": {
    "colab": {
     "base_uri": "https://localhost:8080/",
     "height": 17
    },
    "id": "peFfO9wXYVT5",
    "outputId": "49669131-863a-42e1-b437-4a98fed97269"
   },
   "outputs": [
    {
     "data": {
      "application/javascript": "\n    async function download(id, filename, size) {\n      if (!google.colab.kernel.accessAllowed) {\n        return;\n      }\n      const div = document.createElement('div');\n      const label = document.createElement('label');\n      label.textContent = `Downloading \"${filename}\": `;\n      div.appendChild(label);\n      const progress = document.createElement('progress');\n      progress.max = size;\n      div.appendChild(progress);\n      document.body.appendChild(div);\n\n      const buffers = [];\n      let downloaded = 0;\n\n      const channel = await google.colab.kernel.comms.open(id);\n      // Send a message to notify the kernel that we're ready.\n      channel.send({})\n\n      for await (const message of channel.messages) {\n        // Send a message to notify the kernel that we're ready.\n        channel.send({})\n        if (message.buffers) {\n          for (const buffer of message.buffers) {\n            buffers.push(buffer);\n            downloaded += buffer.byteLength;\n            progress.value = downloaded;\n          }\n        }\n      }\n      const blob = new Blob(buffers, {type: 'application/binary'});\n      const a = document.createElement('a');\n      a.href = window.URL.createObjectURL(blob);\n      a.download = filename;\n      div.appendChild(a);\n      a.click();\n      div.remove();\n    }\n  ",
      "text/plain": [
       "<IPython.core.display.Javascript object>"
      ]
     },
     "metadata": {},
     "output_type": "display_data"
    },
    {
     "data": {
      "application/javascript": "download(\"download_b3566851-1bcb-47d6-9051-d1076b44a992\", \"model_weights.pth\", 1725959806)",
      "text/plain": [
       "<IPython.core.display.Javascript object>"
      ]
     },
     "metadata": {},
     "output_type": "display_data"
    }
   ],
   "source": [
    "\n",
    "# Save the model's state dictionary\n",
    "torch.save(model.state_dict(), 'model_weights.pth')\n"
   ]
  },
  {
   "cell_type": "markdown",
   "metadata": {},
   "source": [
    "## Observing Epoch Impact on Instruction Fine-Tuning\n",
    "\n",
    "In practice, I’ve found that training for a large number of epochs is often unnecessary and can even diminish results due to overfitting or other issues. Surprising? Let’s put this to the test by training for just two additional epochs and comparing the results. \n",
    "\n",
    "If my observations hold true, we should see:\n",
    "\n",
    "1. **Minimal improvement** (or possibly none) in model performance.\n",
    "2. **Potential decline** in the model’s ability to generalize well.\n",
    "\n",
    "Let’s run the training for two more epochs and analyze the outcome."
   ]
  },
  {
   "cell_type": "code",
   "execution_count": 30,
   "metadata": {
    "colab": {
     "base_uri": "https://localhost:8080/"
    },
    "id": "iDDG9mQVCEou",
    "outputId": "c223ff2f-1d3e-4920-ef6f-553b62a8ae5c"
   },
   "outputs": [
    {
     "name": "stdout",
     "output_type": "stream",
     "text": [
      "Ep 1 (Step 000000): Train loss 0.341, Val loss 1.017\n",
      "Ep 1 (Step 000005): Train loss 0.382, Val loss 1.048\n",
      "Ep 1 (Step 000010): Train loss 0.401, Val loss 1.045\n",
      "Ep 1 (Step 000015): Train loss 0.265, Val loss 1.075\n",
      "Ep 1 (Step 000020): Train loss 0.358, Val loss 1.115\n",
      "Ep 1 (Step 000025): Train loss 0.364, Val loss 1.138\n",
      "Ep 1 (Step 000030): Train loss 0.342, Val loss 1.079\n",
      "Ep 1 (Step 000035): Train loss 0.317, Val loss 1.073\n",
      "Ep 1 (Step 000040): Train loss 0.361, Val loss 1.090\n",
      "Ep 1 (Step 000045): Train loss 0.315, Val loss 1.106\n",
      "Ep 1 (Step 000050): Train loss 0.299, Val loss 1.084\n",
      "Ep 1 (Step 000055): Train loss 0.366, Val loss 1.071\n",
      "Ep 1 (Step 000060): Train loss 0.301, Val loss 1.082\n",
      "Ep 1 (Step 000065): Train loss 0.330, Val loss 1.078\n",
      "Ep 1 (Step 000070): Train loss 0.310, Val loss 1.083\n",
      "Ep 1 (Step 000075): Train loss 0.311, Val loss 1.072\n",
      "Ep 1 (Step 000080): Train loss 0.316, Val loss 1.071\n",
      "Ep 1 (Step 000085): Train loss 0.342, Val loss 1.056\n",
      "Ep 1 (Step 000090): Train loss 0.340, Val loss 1.073\n",
      "Ep 1 (Step 000095): Train loss 0.357, Val loss 1.064\n",
      "Ep 1 (Step 000100): Train loss 0.326, Val loss 1.054\n",
      "Ep 1 (Step 000105): Train loss 0.366, Val loss 1.174\n",
      "Ep 1 (Step 000110): Train loss 0.385, Val loss 1.124\n",
      "Ep 1 (Step 000115): Train loss 0.331, Val loss 1.101\n",
      "Ep 1 (Step 000120): Train loss 0.343, Val loss 1.147\n",
      "Ep 1 (Step 000125): Train loss 0.324, Val loss 1.122\n",
      "Ep 1 (Step 000130): Train loss 0.388, Val loss 1.157\n",
      "Ep 1 (Step 000135): Train loss 0.350, Val loss 1.241\n",
      "Ep 1 (Step 000140): Train loss 0.334, Val loss 1.180\n",
      "Ep 1 (Step 000145): Train loss 0.447, Val loss 1.202\n",
      "Ep 1 (Step 000150): Train loss 0.385, Val loss 1.175\n",
      "Ep 1 (Step 000155): Train loss 0.355, Val loss 1.160\n",
      "Ep 1 (Step 000160): Train loss 0.407, Val loss 1.161\n",
      "Ep 1 (Step 000165): Train loss 0.388, Val loss 1.146\n",
      "Ep 1 (Step 000170): Train loss 0.313, Val loss 1.138\n",
      "Ep 1 (Step 000175): Train loss 0.328, Val loss 1.137\n",
      "Ep 1 (Step 000180): Train loss 0.301, Val loss 1.142\n",
      "Ep 1 (Step 000185): Train loss 0.276, Val loss 1.168\n",
      "Ep 1 (Step 000190): Train loss 0.410, Val loss 1.174\n",
      "Ep 1 (Step 000195): Train loss 0.305, Val loss 1.157\n",
      "Ep 1 (Step 000200): Train loss 0.310, Val loss 1.147\n",
      "Ep 1 (Step 000205): Train loss 0.323, Val loss 1.176\n",
      "Ep 1 (Step 000210): Train loss 0.396, Val loss 1.186\n",
      "Ep 1 (Step 000215): Train loss 0.383, Val loss 1.172\n",
      "Ep 1 (Step 000220): Train loss 0.306, Val loss 1.170\n",
      "Ep 1 (Step 000225): Train loss 0.270, Val loss 1.192\n",
      "Ep 1 (Step 000230): Train loss 0.351, Val loss 1.242\n",
      "Below is an instruction that describes a task. Write a response that appropriately completes the request.  ### Instruction: Generate a sentence using the word 'innovative'.  ### Response: The company is known for its innovative products.<|endoftext|> ### Response: The company is known for its innovative products.<|endoftext|> ### Response: The company is known for its innovative products.<|endoftext|><|endoftext|>### Response:\n",
      "Ep 2 (Step 000235): Train loss 0.289, Val loss 1.228\n",
      "Ep 2 (Step 000240): Train loss 0.333, Val loss 1.242\n",
      "Ep 2 (Step 000245): Train loss 0.299, Val loss 1.256\n",
      "Ep 2 (Step 000250): Train loss 0.306, Val loss 1.301\n",
      "Ep 2 (Step 000255): Train loss 0.297, Val loss 1.261\n",
      "Ep 2 (Step 000260): Train loss 0.289, Val loss 1.257\n",
      "Ep 2 (Step 000265): Train loss 0.348, Val loss 1.287\n",
      "Ep 2 (Step 000270): Train loss 0.303, Val loss 1.278\n",
      "Ep 2 (Step 000275): Train loss 0.285, Val loss 1.314\n",
      "Ep 2 (Step 000280): Train loss 0.355, Val loss 1.307\n",
      "Ep 2 (Step 000285): Train loss 0.303, Val loss 1.259\n",
      "Ep 2 (Step 000290): Train loss 0.387, Val loss 1.254\n",
      "Ep 2 (Step 000295): Train loss 0.334, Val loss 1.269\n",
      "Ep 2 (Step 000300): Train loss 0.332, Val loss 1.223\n",
      "Ep 2 (Step 000305): Train loss 0.329, Val loss 1.198\n",
      "Ep 2 (Step 000310): Train loss 0.328, Val loss 1.186\n",
      "Ep 2 (Step 000315): Train loss 0.356, Val loss 1.204\n",
      "Ep 2 (Step 000320): Train loss 0.340, Val loss 1.227\n",
      "Ep 2 (Step 000325): Train loss 0.364, Val loss 1.157\n",
      "Ep 2 (Step 000330): Train loss 0.245, Val loss 1.171\n",
      "Ep 2 (Step 000335): Train loss 0.295, Val loss 1.221\n",
      "Ep 2 (Step 000340): Train loss 0.309, Val loss 1.248\n",
      "Ep 2 (Step 000345): Train loss 0.296, Val loss 1.242\n",
      "Ep 2 (Step 000350): Train loss 0.239, Val loss 1.167\n",
      "Ep 2 (Step 000355): Train loss 0.317, Val loss 1.170\n",
      "Ep 2 (Step 000360): Train loss 0.353, Val loss 1.202\n",
      "Ep 2 (Step 000365): Train loss 0.321, Val loss 1.233\n",
      "Ep 2 (Step 000370): Train loss 0.277, Val loss 1.251\n",
      "Ep 2 (Step 000375): Train loss 0.295, Val loss 1.202\n",
      "Ep 2 (Step 000380): Train loss 0.328, Val loss 1.195\n",
      "Ep 2 (Step 000385): Train loss 0.374, Val loss 1.203\n",
      "Ep 2 (Step 000390): Train loss 0.310, Val loss 1.233\n",
      "Ep 2 (Step 000395): Train loss 0.274, Val loss 1.255\n",
      "Ep 2 (Step 000400): Train loss 0.255, Val loss 1.223\n",
      "Ep 2 (Step 000405): Train loss 0.292, Val loss 1.181\n",
      "Ep 2 (Step 000410): Train loss 0.340, Val loss 1.205\n",
      "Ep 2 (Step 000415): Train loss 0.316, Val loss 1.183\n",
      "Ep 2 (Step 000420): Train loss 0.387, Val loss 1.171\n",
      "Ep 2 (Step 000425): Train loss 0.304, Val loss 1.205\n",
      "Ep 2 (Step 000430): Train loss 0.261, Val loss 1.232\n",
      "Ep 2 (Step 000435): Train loss 0.249, Val loss 1.254\n",
      "Ep 2 (Step 000440): Train loss 0.272, Val loss 1.251\n",
      "Ep 2 (Step 000445): Train loss 0.272, Val loss 1.235\n",
      "Ep 2 (Step 000450): Train loss 0.233, Val loss 1.230\n",
      "Ep 2 (Step 000455): Train loss 0.234, Val loss 1.215\n",
      "Ep 2 (Step 000460): Train loss 0.243, Val loss 1.214\n",
      "Ep 2 (Step 000465): Train loss 0.251, Val loss 1.209\n",
      "Below is an instruction that describes a task. Write a response that appropriately completes the request.  ### Instruction: Generate a sentence using the word 'innovative'.  ### Response: The company is known for its innovative products.<|endoftext|>The company is known for its innovative products.<|endoftext|> <|endoftext|>### Response: The company is known for its innovative products.<|endoftext|>The company is known for its innovative products\n"
     ]
    }
   ],
   "source": [
    "num_epochs = 2\n",
    "\n",
    "# Call the training function and store the resulting losses and tokens seen\n",
    "train_losses2, val_losses2, tokens_seen2 = trainerV1(\n",
    "    model,\n",
    "    train_dataloader,\n",
    "    val_dataloader,\n",
    "    optimizer,\n",
    "    device,\n",
    "    num_epochs=num_epochs,\n",
    "    eval_freq=5,  # Evaluate every 5 steps\n",
    "    eval_iter=5,  # Use 5 batches for evaluation\n",
    "    start_context=format_input(val_data[0]),  # Initial context for text generation\n",
    "    tokenizer=tok  # Tokenizer for text processing\n",
    ")"
   ]
  },
  {
   "cell_type": "markdown",
   "metadata": {},
   "source": [
    "Plotting the result for better observation  "
   ]
  },
  {
   "cell_type": "code",
   "execution_count": 31,
   "metadata": {
    "colab": {
     "base_uri": "https://localhost:8080/",
     "height": 997
    },
    "id": "tMDi2CFTEIiD",
    "outputId": "48734196-01a4-4a32-b882-fb4777424ccb"
   },
   "outputs": [
    {
     "data": {
      "image/png": "[encoded data removed]",
      "text/plain": [
       "<Figure size 1000x500 with 2 Axes>"
      ]
     },
     "metadata": {},
     "output_type": "display_data"
    },
    {
     "data": {
      "image/png": "[encoded data removed]",
      "text/plain": [
       "<Figure size 1000x500 with 2 Axes>"
      ]
     },
     "metadata": {},
     "output_type": "display_data"
    }
   ],
   "source": [
    "import matplotlib.pyplot as plt\n",
    "\n",
    "# Function to plot training and validation losses\n",
    "def plot_losses(train_losses, val_losses, run_number):\n",
    "    plt.figure(figsize=(10, 5))\n",
    "\n",
    "    # Plotting training losses\n",
    "    plt.subplot(1, 2, 1)\n",
    "    plt.plot(train_losses, label='Training Loss')\n",
    "    plt.title(f'Training Loss for Run {run_number}')\n",
    "    plt.xlabel('Steps')\n",
    "    plt.ylabel('Loss')\n",
    "    plt.legend()\n",
    "    plt.grid()\n",
    "\n",
    "    # Plotting validation losses\n",
    "    plt.subplot(1, 2, 2)\n",
    "    plt.plot(val_losses, label='Validation Loss')\n",
    "    plt.title(f'Validation Loss for Run {run_number}')\n",
    "    plt.xlabel('Steps')\n",
    "    plt.ylabel('Loss')\n",
    "    plt.legend()\n",
    "    plt.grid()\n",
    "\n",
    "    plt.tight_layout()\n",
    "    plt.show()\n",
    "\n",
    "# Plot losses for the first run\n",
    "plot_losses(train_losses1, val_losses1, run_number=1)\n",
    "\n",
    "# Plot losses for the second run\n",
    "plot_losses(train_losses2, val_losses2, run_number=2)"
   ]
  },
  {
   "cell_type": "markdown",
   "metadata": {},
   "source": [
    "## Lets us the new model to generate text using our text_data sample"
   ]
  },
  {
   "cell_type": "code",
   "execution_count": 75,
   "metadata": {
    "colab": {
     "base_uri": "https://localhost:8080/"
    },
    "id": "Mxap4V2pka-9",
    "outputId": "9019b9a9-a4c4-4bbf-ce78-e9507a2374a5"
   },
   "outputs": [
    {
     "name": "stderr",
     "output_type": "stream",
     "text": [
      "<ipython-input-75-0b9df379f9cb>:5: FutureWarning: You are using `torch.load` with `weights_only=False` (the current default value), which uses the default pickle module implicitly. It is possible to construct malicious pickle data which will execute arbitrary code during unpickling (See https://github.com/pytorch/pytorch/blob/main/SECURITY.md#untrusted-models for more details). In a future release, the default value for `weights_only` will be flipped to `True`. This limits the functions that could be executed during unpickling. Arbitrary objects will no longer be allowed to be loaded via this mode unless they are explicitly allowlisted by the user via `torch.serialization.add_safe_globals`. We recommend you start setting `weights_only=True` for any use case where you don't have full control of the loaded file. Please open an issue on GitHub for any issues related to this experimental feature.\n",
      "  model.load_state_dict(torch.load('model_weights.pth'))\n"
     ]
    },
    {
     "name": "stdout",
     "output_type": "stream",
     "text": [
      "Input text: Below is an instruction that describes a task. Write a response that appropriately completes the request.\n",
      "\n",
      "### Instruction:\n",
      "Rewrite this statement as an imperative sentence.\n",
      "\n",
      "### Input:\n",
      "You should finish your assignment.\n",
      "\n",
      "Correct response:\n",
      ">> Finish your assignment.\n",
      "\n",
      "Model response:\n",
      ">> You should finish your assignment.\n",
      "-------------------------------------\n",
      "Input text: Below is an instruction that describes a task. Write a response that appropriately completes the request.\n",
      "\n",
      "### Instruction:\n",
      "Identify the adjective in the sentence.\n",
      "\n",
      "### Input:\n",
      "The quick fox jumped over the lazy dog.\n",
      "\n",
      "Correct response:\n",
      ">> The adjectives in the sentence are 'quick' and 'lazy'.\n",
      "\n",
      "Model response:\n",
      ">> The adjective in the sentence is 'jumps over the lazy dog.'\n",
      "-------------------------------------\n",
      "Input text: Below is an instruction that describes a task. Write a response that appropriately completes the request.\n",
      "\n",
      "### Instruction:\n",
      "Convert 12 meters to centimeters.\n",
      "\n",
      "Correct response:\n",
      ">> 12 meters is 1200 centimeters.\n",
      "\n",
      "Model response:\n",
      ">> 12 meters is equal to 1 centimeters.\n",
      "-------------------------------------\n",
      "Input text: Below is an instruction that describes a task. Write a response that appropriately completes the request.\n",
      "\n",
      "### Instruction:\n",
      "Classify the following into vegetables, animals, and metals.\n",
      "\n",
      "### Input:\n",
      "Broccoli, Iron, Elephant\n",
      "\n",
      "Correct response:\n",
      ">> Vegetables: Broccoli\n",
      "Metals: Iron\n",
      "Animals: Elephant\n",
      "\n",
      "Model response:\n",
      ">> The vegetables are the best.\n",
      "-------------------------------------\n",
      "Input text: Below is an instruction that describes a task. Write a response that appropriately completes the request.\n",
      "\n",
      "### Instruction:\n",
      "Generate a sentence using the word 'ambitious'.\n",
      "\n",
      "Correct response:\n",
      ">> She is ambitious and strives for success in all her endeavors.\n",
      "\n",
      "Model response:\n",
      ">> He is very ambitious and sets high goals for himself for himself.\n",
      "-------------------------------------\n"
     ]
    }
   ],
   "source": [
    "model = GPTModel(BASE_CONFIG)\n",
    "model.to(device)   # Move to the correct device if necessary\n",
    "\n",
    "# Load the saved state dictionary\n",
    "model.load_state_dict(torch.load('model_weights.pth'))\n",
    "\n",
    "# Set the model to evaluation mode\n",
    "model.eval()\n",
    "\n",
    "model\n",
    "torch.manual_seed(123)\n",
    "for entry in test_data[:5]:\n",
    "    input_text = format_input(entry)\n",
    "\n",
    "    # Generate token IDs\n",
    "    token_ids = generate(\n",
    "        model=model,\n",
    "        idx=text_to_tokens_ids(input_text, tokenizer).to(device),\n",
    "        max_new_tokens=256,\n",
    "        context_size=BASE_CONFIG[\"context_length\"],\n",
    "        eos_id=50256\n",
    "    )\n",
    "\n",
    "    # Convert token IDs back to text\n",
    "    generated_text = token_ids_to_text(token_ids, tokenizer)\n",
    "\n",
    "    # Extract response text after the prompt\n",
    "    response_text = (\n",
    "        generated_text[len(input_text):]\n",
    "        .replace(\"### Response:\", \"\")\n",
    "        .strip()\n",
    "    )\n",
    "\n",
    "    print(\"Input text:\", input_text)\n",
    "    print(f\"\\nCorrect response:\\n>> {entry['output']}\")\n",
    "    print(f\"\\nModel response:\\n>> {response_text.strip()}\")\n",
    "    print(\"-------------------------------------\")\n"
   ]
  },
  {
   "cell_type": "markdown",
   "metadata": {},
   "source": [
    "## 4 - Model Evaluation\n",
    "\n",
    "While decreasing loss is a promising sign, it isn’t sufficient alone to fully judge the model’s effectiveness—especially for tasks as complex as instruction following. This isn't a simple text classification problem with an easily measurable accuracy score, and reviewing all test data is often impractical, especially with production-level datasets. \n",
    "\n",
    "### Common Evaluation Approaches for Instruction-Fine-Tuned LLMs\n",
    "\n",
    "In practice, instruction-following models like chatbots are often evaluated through multiple methods to capture a more holistic view of their performance. Here are three main approaches:\n",
    "\n",
    "1. **Short-Answer and Multiple-Choice Benchmarks**  \n",
    "   Benchmarks like *Measuring Massive Multitask Language Understanding (MMLU)* test the model’s general knowledge and ability to perform well across a variety of topics. MMLU, for example, is a widely recognized benchmark for evaluating language models' ability to generalize across diverse subjects [MMLU](https://arxiv.org/abs/2009.03300).\n",
    "\n",
    "2. **Human Preference Comparisons**  \n",
    "   Platforms like the *LMSYS Chatbot Arena* provide human preference comparisons. These allow users or reviewers to directly compare the model's responses to those of other language models, providing insights into how well the model performs in real-world conversational contexts. See [LMSYS Chatbot Arena](https://arena.lmsys.org) for more details.\n",
    "\n",
    "3. **Automated Conversational Benchmarks**  \n",
    "   Another common practice is to have a high-level model, such as GPT-4, evaluate the responses generated by the fine-tuned model. This automated evaluation offers a scalable way to get feedback, ensuring consistency in criteria and insights, particularly when human evaluations are infeasible.\n",
    "\n",
    "By combining these evaluation methods, we gain a more reliable and nuanced understanding of the model’s performance, especially in complex applications such as instruction following and dialogue. This can guide us in making informed adjustments and improvements, ensuring the model meets quality expectations."
   ]
  },
  {
   "cell_type": "markdown",
   "metadata": {},
   "source": [
    "### Evaluation with Custom LLM-Assisted Approach\n",
    "\n",
    "To evaluate our fine-tuned model's responses, we’ll use an approach similar to AlpacaEval by having another LLM review the generated outputs. Unlike public benchmarks, we’ll use a custom test set tailored to our specific use cases. This allows us to assess the model’s effectiveness directly within our intended application areas, as represented in our instruction dataset.\n",
    "\n",
    "For each input in our test set, we use the model's `generate` method to produce responses. These responses are then appended to the `test_set` dictionary, which allows us to track both the input prompts and model outputs. This structured format makes it straightforward to evaluate each response later.  \n",
    "To facilitate later analysis, we save the updated `test_set` data as `\"instruction-data-with-response.json\"`. This record not only preserves the outputs but also provides a convenient way to reload and review responses in other sessions.\n",
    "\n",
    "\n",
    "\n"
   ]
  },
  {
   "cell_type": "code",
   "execution_count": 28,
   "metadata": {
    "colab": {
     "base_uri": "https://localhost:8080/"
    },
    "id": "SyOrDkhK5vsp",
    "outputId": "f1c1669a-5c76-40db-8689-d6baab5f7467"
   },
   "outputs": [
    {
     "name": "stderr",
     "output_type": "stream",
     "text": [
      "100%|██████████| 110/110 [35:31<00:00, 19.38s/it]\n"
     ]
    }
   ],
   "source": [
    "from tqdm import tqdm\n",
    "from UTILS.finetune_utils import generate , generate_text_simple\n",
    "import tiktoken\n",
    "\n",
    "tokenizer = tiktoken.get_encoding(\"gpt2\")\n",
    "for i,entry in tqdm(enumerate(test_data),total =len(test_data)):\n",
    "  input_text = format_input(entry)\n",
    "  token_ids = generate(\n",
    "      model = model ,\n",
    "      idx = text_to_tokens_ids(input_text , tokenizer).to(device),\n",
    "      max_new_tokens = 256,\n",
    "      context_size = BASE_CONFIG[\"context_length\"],\n",
    "      eos_id = 50256\n",
    "  )\n",
    "\n",
    "  gen_text = token_ids_to_text(token_ids, tokenizer)\n",
    "\n",
    "  response_text = (gen_text[len(input_text):].replace(\"### Response:\", \"\").strip())\n",
    "\n",
    "  test_data[i][\"model_response\"] = response_text\n",
    "\n",
    "\n",
    "with open(\"instruction-data-with-response.json\", \"w\") as file :\n",
    "  json.dump(test_data, file, indent=4)\n",
    "\n"
   ]
  },
  {
   "cell_type": "code",
   "execution_count": 29,
   "metadata": {
    "colab": {
     "base_uri": "https://localhost:8080/"
    },
    "id": "SUbpyd85-Y7a",
    "outputId": "3a90fb7a-e2d4-4aa0-a46b-790967ce5d94"
   },
   "outputs": [
    {
     "name": "stdout",
     "output_type": "stream",
     "text": [
      "{'instruction': 'Convert 12 meters to centimeters.', 'input': '', 'output': '12 meters is 1200 centimeters.', 'model_response': '12 meters is equal to 1 centimeters.'}\n"
     ]
    }
   ],
   "source": [
    "print(test_data[2])"
   ]
  },
  {
   "cell_type": "markdown",
   "metadata": {},
   "source": [
    "**Ollama: Efficient Inference on Laptops**\n",
    "\n",
    "Ollama is an application optimized for running large language models (LLMs) on laptops by using `llama.cpp`, an open-source library written in pure C/C++. This focus on C/C++ allows for highly efficient inference, enabling users to generate text with LLMs even on less powerful hardware like laptops. \n",
    "\n",
    "While Ollama is effective for inference (text generation), it's designed solely for this purpose. It does not support training or fine-tuning LLMs, meaning users looking to adjust model weights or train new models will need to use other tools."
   ]
  },
  {
   "cell_type": "markdown",
   "metadata": {},
   "source": [
    "## Installing and Running Ollama\n",
    "\n",
    "To use Ollama effectively, follow these setup steps based on your operating system.\n",
    "\n",
    "1. **Download and Install Ollama**  \n",
    "   - Visit [https://ollama.com](https://ollama.com) and follow the download instructions for your OS.\n",
    "   - **macOS & Windows**: Open the downloaded Ollama application, and if prompted, allow installation of command-line tools.\n",
    "   - **Linux**: Use the installation command provided on the Ollama website.\n",
    "\n",
    "2. **Running Ollama**  \n",
    "   Once installed, Ollama is ready to run language models through your command line interface:\n",
    "   ```bash\n",
    "   ollama run llama3.2\n",
    "   ```\n",
    "   or\n",
    "   ```bash\n",
    "   ollama run llama3\n",
    "   ```\n",
    "   Choose the model that best suits your hardware; the model will be downloaded on the first run.\n",
    "\n",
    "3. **Ensuring Ollama Stays Active**  \n",
    "   Make sure Ollama is in \"run\" mode so you can continue uninterrupted. You can use one of the following commands to keep it running:\n",
    "   ```bash\n",
    "   ollama serve\n",
    "   ```\n",
    "   This way, Ollama continues running in the background, allowing you to interact with it seamlessly throughout your session.\n",
    "\n",
    "   <p align=\"center\">\n",
    "       <img src=\"images/ollama.png\" alt=\"Ollama in Action\" />\n",
    "   </p>\n",
    "\n",
    "Now, you’re ready to run LLMs efficiently on your laptop with Ollama.\n",
    "\n",
    "## You can make sure the session is working with the following code : "
   ]
  },
  {
   "cell_type": "code",
   "execution_count": 42,
   "metadata": {
    "id": "NknFYd8DLngx"
   },
   "outputs": [
    {
     "name": "stdout",
     "output_type": "stream",
     "text": [
      "Ollama running: True\n"
     ]
    }
   ],
   "source": [
    "import psutil\n",
    "def check_if_running(process_name):\n",
    "    running = False\n",
    "    for proc in psutil.process_iter([\"name\"]):\n",
    "        if process_name in proc.info[\"name\"]:\n",
    "            running = True\n",
    "            break\n",
    "\n",
    "    return running\n",
    "ollama_running = check_if_running(\"ollama\")\n",
    "if not ollama_running:\n",
    "    raise RuntimeError(\n",
    "\"Ollama not running. Launch ollama before proceeding.\"\n",
    ")\n",
    "print(\"Ollama running:\", check_if_running(\"ollama\"))"
   ]
  },
  {
   "cell_type": "markdown",
   "metadata": {},
   "source": [
    "# Querying Ollama's Local Model\n",
    "\n",
    "In this section, we define a function `query_model` that interacts with a locally running instance of the Ollama model API. The function sends a prompt to the specified model and retrieves a response, which can be used for various tasks such as scoring or evaluating model outputs. \n",
    "\n",
    "## Function Breakdown\n",
    "\n",
    "- **Function Definition**: The `query_model` function accepts three parameters:\n",
    "  - `prompt`: The text prompt we want to send to the model for generating a response.\n",
    "  - `model`: The name of the model to be queried (default is set to \"llama3.2\").\n",
    "  - `url`: The API endpoint for the model (default is set to \"http://localhost:11434/api/chat\").\n",
    "\n",
    "- **Data Preparation**: \n",
    "  - The function prepares a JSON payload that includes the model name, the user prompt, and options for generating the response. Options like `seed`, `temperature`, and `num_ctx` can be adjusted to control the randomness and context size of the model's responses.\n",
    "\n",
    "- **Making the Request**: \n",
    "  - The JSON payload is converted to bytes and sent to the specified URL using a POST request. The `Content-Type` header is set to `application/json` to indicate the format of the request.\n",
    "\n",
    "- **Response Handling**: \n",
    "  - The function reads the response from the API line by line and accumulates the response content until the end of the response is reached.\n",
    "\n",
    "- **Return Value**: The final accumulated response is returned as a string, which can be further processed or analyzed.\n",
    "\n"
   ]
  },
  {
   "cell_type": "code",
   "execution_count": null,
   "metadata": {},
   "outputs": [],
   "source": [
    "# Define the function to query Ollama's local model\n",
    "def query_model(prompt, model=\"llama3.2\", url=\"http://localhost:11434/api/chat\"):\n",
    "    # Prepare the data payload for the API request\n",
    "    data = {\n",
    "        \"model\": model,\n",
    "        \"messages\": [\n",
    "            {\"role\": \"user\", \"content\": prompt}\n",
    "        ],\n",
    "        \"options\": {\n",
    "            \"seed\": 123,            # For deterministic responses\n",
    "            \"temperature\": 0,\n",
    "            \"num_ctx\": 2048\n",
    "        }\n",
    "    }\n",
    "    \n",
    "    # Convert data payload to JSON and encode it\n",
    "    payload = json.dumps(data).encode(\"utf-8\")\n",
    "    request = urllib.request.Request(url, data=payload, method=\"POST\")\n",
    "    request.add_header(\"Content-Type\", \"application/json\")\n",
    "    \n",
    "    response_data = \"\"\n",
    "    # Make the request to the API and handle the response\n",
    "    with urllib.request.urlopen(request) as response:\n",
    "        while True:\n",
    "            line = response.readline().decode(\"utf-8\")\n",
    "            if not line:\n",
    "                break\n",
    "            response_json = json.loads(line)\n",
    "            response_data += response_json[\"message\"][\"content\"]\n",
    "    \n",
    "    return response_data\n",
    "\n",
    "\n"
   ]
  },
  {
   "cell_type": "code",
   "execution_count": 47,
   "metadata": {},
   "outputs": [
    {
     "name": "stdout",
     "output_type": "stream",
     "text": [
      "\n",
      "Dataset response:\n",
      ">> Finish your assignment.\n",
      "\n",
      "Model response:\n",
      ">> You should finish your assignment.\n",
      "\n",
      "Score:\n",
      ">> ### Corrected Response:\n",
      "The corrected response is: \"Finish your assignment.\"\n",
      "\n",
      "### Score: 100\n",
      "\n",
      "Explanation: The original response \"You should finish your assignment.\" is already in the imperative form, which means it is a command or instruction. Therefore, no changes are needed to rewrite it as an imperative sentence. It meets the criteria for a perfect score because it accurately conveys the intended meaning and is grammatically correct.\n",
      "\n",
      "-------------------------\n",
      "\n",
      "Dataset response:\n",
      ">> The adjectives in the sentence are 'quick' and 'lazy'.\n",
      "\n",
      "Model response:\n",
      ">> The adjective in the sentence is 'jumps over the lazy dog.'\n",
      "\n",
      "Score:\n",
      ">> ### Response:\n",
      "The adjectives in the sentence are 'quick' and 'lazy'.\n",
      "\n",
      "### Score: 100\n",
      "\n",
      "Explanation:\n",
      "\n",
      "* The response correctly identifies the two adjectives in the sentence.\n",
      "* It uses the correct grammatical form (\"adjectives\" instead of \"adjective\") to describe the nouns.\n",
      "* The response is concise and clear, providing a direct answer to the question.\n",
      "\n",
      "The incorrect model response scores 0 because it:\n",
      "\n",
      "* Only identifies one adjective (\"jumps over the lazy dog.\") when there are two in the sentence.\n",
      "* Uses an incorrect grammatical form (\"adjective\" instead of \"adjectives\") to describe the nouns.\n",
      "* Does not provide a clear or concise answer to the question.\n",
      "\n",
      "-------------------------\n",
      "\n",
      "Dataset response:\n",
      ">> 12 meters is 1200 centimeters.\n",
      "\n",
      "Model response:\n",
      ">> 12 meters is equal to 1 centimeters.\n",
      "\n",
      "Score:\n",
      ">> To convert 12 meters to centimeters, we need to multiply by 100 since there are 100 centimeters in 1 meter.\n",
      "\n",
      "12 meters * 100 = 1200 centimeters\n",
      "\n",
      "So, the correct response should be: \"12 meters is equal to 1200 centimeters.\"\n",
      "\n",
      "Score: 0/100 (the model's response is incorrect)\n",
      "\n",
      "-------------------------\n",
      "\n",
      "Dataset response:\n",
      ">> Vegetables: Broccoli\n",
      "Metals: Iron\n",
      "Animals: Elephant\n",
      "\n",
      "Model response:\n",
      ">> The vegetables are the best.\n",
      "\n",
      "Score:\n",
      ">> ### Model Response:\n",
      "```\n",
      "Vegetables: Broccoli\n",
      "Metals: Iron\n",
      "Animals: Elephant\n",
      "```\n",
      "\n",
      "### Score: 100\n",
      "\n",
      "The model response is correct and complete, accurately classifying each item into its respective category (vegetables, metals, or animals). The response is also concise and easy to understand.\n",
      "\n",
      "-------------------------\n",
      "\n",
      "Dataset response:\n",
      ">> She is ambitious and strives for success in all her endeavors.\n",
      "\n",
      "Model response:\n",
      ">> He is very ambitious and sets high goals for himself for himself.\n",
      "\n",
      "Score:\n",
      ">> To generate a sentence using the word 'ambitious', I will create a response that meets the requirements.\n",
      "\n",
      "### Response:\n",
      "She is ambitious and strives for success in all her endeavors.\n",
      "\n",
      "Now, let's evaluate the model response \"He is very ambitious and sets high goals for himself for himself.\" on a scale from 0 to 100:\n",
      "\n",
      "Score: 60\n",
      "\n",
      "Reasoning:\n",
      "\n",
      "* The response uses the word 'ambitious' correctly.\n",
      "* It provides some context about the person being described (e.g., striving for success).\n",
      "* However, the sentence is somewhat generic and lacks specificity. The phrase \"for himself for himself\" seems redundant and unclear.\n",
      "* The tone of the sentence is also somewhat informal, which may not be suitable for all contexts.\n",
      "\n",
      "Overall, while the response meets some requirements, it could benefit from more clarity, specificity, and a more formal tone to score higher.\n",
      "\n",
      "-------------------------\n",
      "\n",
      "Dataset response:\n",
      ">> 'The bright star illuminated night.'\n",
      "\n",
      "Model response:\n",
      ">> A five-word phrase using the words 'star' is 'night.'\n",
      "\n",
      "Score:\n",
      ">> Score: 0\n",
      "\n",
      "Reasoning: The model's response does not meet the requirements of the task. It only uses two out of three required words (\"star\" and \"bright\") in a phrase that is less than five words long. Additionally, it does not use the word \"night\", which is also a required component of the task.\n",
      "\n",
      "-------------------------\n",
      "\n",
      "Dataset response:\n",
      ">> Democracy is a system of government where the citizens exercise power by voting. It typically features fair and free elections, protection of human rights, and the rule of law.\n",
      "\n",
      "Model response:\n",
      ">> A democracy is a form of government that includes the Executive, the Legislative, the Judicial branches.\n",
      "\n",
      "Score:\n",
      ">> I would rate the model response a 20 out of 100.\n",
      "\n",
      "The correct output provided earlier accurately defines the term 'democracy' and its key characteristics. In contrast, the model response provided is incomplete and inaccurate. It only mentions three branches of government (Executive, Legislative, Judicial) without explaining how they relate to democracy or what specific aspects of democracy these branches represent.\n",
      "\n",
      "A more accurate definition would have included elements such as citizen participation, protection of individual rights, and the principle of accountability, which are all essential components of a democratic system. The model response lacks these crucial details, making it an incomplete and inaccurate representation of the term 'democracy'.\n",
      "\n",
      "-------------------------\n",
      "\n",
      "Dataset response:\n",
      ">> The interjection in the sentence is 'Ouch.'\n",
      "\n",
      "Model response:\n",
      ">> The interjection in the sentence is the past continuous tense.\n",
      "\n",
      "Score:\n",
      ">> ### Corrected Output:\n",
      "The interjection in the sentence is \"Ouch.\"\n",
      "\n",
      "### Score: 100\n",
      "\n",
      "Explanation:\n",
      "\n",
      "* The input provided contains an interjection, which is a word that expresses emotion or feeling.\n",
      "* The correct output identifies \"Ouch\" as the interjection in the sentence, accurately capturing its emotional tone and function in the sentence.\n",
      "* The incorrect output, on the other hand, incorrectly identifies the past continuous tense, which is a grammatical concept unrelated to interjections. This mistake demonstrates a lack of understanding of the specific task at hand.\n",
      "\n",
      "The score of 100 indicates that the model response is accurate, clear, and correctly identifies the interjection in the sentence.\n",
      "\n",
      "-------------------------\n",
      "\n",
      "Dataset response:\n",
      ">> An antonym for 'happiness' is 'sadness.'\n",
      "\n",
      "Model response:\n",
      ">> An antonym for 'happiness' is 'sorrow.'\n",
      "\n",
      "Score:\n",
      ">> The model's response \"An antonym for 'happiness' is 'sorrow.'\" would receive a score of 80 out of 100.\n",
      "\n",
      "Here's why:\n",
      "\n",
      "1. The model correctly identifies an antonym for 'happiness', which is a key aspect of the task.\n",
      "2. However, it uses the word \"sorrow\" instead of the more commonly accepted antonym \"sadness\".\n",
      "3. Despite this mistake, the response still conveys the correct meaning and is grammatically correct.\n",
      "\n",
      "A score of 80 indicates that the model demonstrates a good understanding of the concept but makes a minor error in its response.\n",
      "\n",
      "-------------------------\n",
      "\n",
      "Dataset response:\n",
      ">> The classification of the sentence 'Please open the door.' is imperative.\n",
      "\n",
      "Model response:\n",
      ">> Exclamation.\n",
      "\n",
      "Score:\n",
      ">> To classify the sentence \"Exclamation.\" as either declarative, interrogative, imperative, or exclamatory, I would say that it is an exclamatory sentence.\n",
      "\n",
      "The reason for this classification is that the sentence ends with a period and has an exclamation mark at the end, which indicates strong emotions or emphasis. Exclamatory sentences are used to express strong emotions or feelings, such as excitement, surprise, or anger.\n",
      "\n",
      "Therefore, I would give my response a score of 100, as it accurately classifies the sentence \"Exclamation.\" as exclamatory.\n",
      "\n",
      "-------------------------\n"
     ]
    }
   ],
   "source": [
    "for entry in test_data[:10]:\n",
    "    # Prepare the prompt for scoring\n",
    "    prompt = (\n",
    "        f\"Given the input `{format_input(entry)}` \"\n",
    "        f\"and correct output `{entry['output']}`, \"\n",
    "        f\"score the model response `{entry['model_response']}` \"\n",
    "        f\"on a scale from 0 to 100, where 100 is the best score.\"\n",
    "    )\n",
    "    \n",
    "    # Print the original dataset response\n",
    "    print(\"\\nDataset response:\")\n",
    "    print(\">>\", entry['output'])\n",
    "    \n",
    "    # Print the model's response\n",
    "    print(\"\\nModel response:\")\n",
    "    print(\">>\", entry[\"model_response\"])\n",
    "    \n",
    "    # Print the score given by the model\n",
    "    print(\"\\nScore:\")\n",
    "    print(\">>\", query_model(prompt))\n",
    "    \n",
    "    print(\"\\n-------------------------\")\n"
   ]
  },
  {
   "cell_type": "markdown",
   "metadata": {},
   "source": [
    "# Model Scoring Function\n",
    "\n",
    "In this section, we define the `generate_model_scores` function, which takes a JSON dataset and evaluates the model's responses based on a specified key. The function constructs prompts to score the responses on a scale from 0 to 100 using a local model (in this case, `llama3`). The scores are collected in a list and returned at the end of the function. \n",
    "\n",
    "The function operates as follows:\n",
    "1. It iterates through each entry in the provided JSON data.\n",
    "2. For each entry, it constructs a prompt that includes the input, the correct output, and the model's response.\n",
    "3. It calls the `query_model` function to get a score for the model's response.\n",
    "4. The score is appended to a list, which is returned after processing all entries.\n",
    "5. If a score cannot be converted to an integer, it logs an error message.\n",
    "\n",
    "This process helps us quantitatively assess the model's performance based on predefined inputs and outputs.\n"
   ]
  },
  {
   "cell_type": "code",
   "execution_count": 51,
   "metadata": {},
   "outputs": [],
   "source": [
    "def generate_model_scores(json_data, json_key, model=\"llama3.2\"):\n",
    "    scores = []\n",
    "    for entry in tqdm(json_data, desc=\"Scoring entries\"):\n",
    "        prompt = (\n",
    "            f\"Given the input `{format_input(entry)}` \"\n",
    "            f\"and correct output `{entry['output']}`, \"\n",
    "            f\"score the model response `{entry[json_key]}` \"\n",
    "            f\"on a scale from 0 to 100, where 100 is the best score. \"\n",
    "            f\"Respond with the integer number only.\"\n",
    "        )\n",
    "        score = query_model(prompt, model) \n",
    "        try:\n",
    "            scores.append(int(score))\n",
    "        except ValueError:\n",
    "            print(f\"Could not convert score: {score}\")\n",
    "            continue\n",
    "    return scores\n"
   ]
  },
  {
   "cell_type": "code",
   "execution_count": 52,
   "metadata": {},
   "outputs": [
    {
     "name": "stderr",
     "output_type": "stream",
     "text": [
      "Scoring entries:   1%|          | 1/110 [00:14<26:17, 14.47s/it]"
     ]
    },
    {
     "name": "stdout",
     "output_type": "stream",
     "text": [
      "Could not convert score: Score: 80\n"
     ]
    },
    {
     "name": "stderr",
     "output_type": "stream",
     "text": [
      "Scoring entries:   4%|▎         | 4/110 [01:07<31:41, 17.94s/it]"
     ]
    },
    {
     "name": "stdout",
     "output_type": "stream",
     "text": [
      "Could not convert score: I'd classify it as follows:\n",
      "\n",
      "Vegetables: Broccoli\n",
      "Metals: Iron\n",
      "Animals: Elephant\n",
      "\n",
      "Score: 0\n"
     ]
    },
    {
     "name": "stderr",
     "output_type": "stream",
     "text": [
      "Scoring entries:   9%|▉         | 10/110 [02:48<30:29, 18.29s/it]"
     ]
    },
    {
     "name": "stdout",
     "output_type": "stream",
     "text": [
      "Could not convert score: 70\n",
      "\n",
      "The classification of the sentence 'Exclamation.' is not provided as it's incomplete and doesn't follow the instruction format.\n"
     ]
    },
    {
     "name": "stderr",
     "output_type": "stream",
     "text": [
      "Scoring entries:  14%|█▎        | 15/110 [04:12<27:54, 17.62s/it]"
     ]
    },
    {
     "name": "stdout",
     "output_type": "stream",
     "text": [
      "Could not convert score: 90\n",
      "\n",
      "He will be reading a novel inspired by his grandmother.\n"
     ]
    },
    {
     "name": "stderr",
     "output_type": "stream",
     "text": [
      "Scoring entries:  23%|██▎       | 25/110 [06:48<23:47, 16.79s/it]"
     ]
    },
    {
     "name": "stdout",
     "output_type": "stream",
     "text": [
      "Could not convert score: 60\n",
      "\n",
      "Explanation: The corrected sentence should be \"He has seen the movie.\" instead of \"He have seen the movie.\". The correct form of the verb \"have\" in this context is \"has\", not \"have\".\n"
     ]
    },
    {
     "name": "stderr",
     "output_type": "stream",
     "text": [
      "Scoring entries:  24%|██▎       | 26/110 [07:09<25:10, 17.98s/it]"
     ]
    },
    {
     "name": "stdout",
     "output_type": "stream",
     "text": [
      "Could not convert score: I'd be happy to help you translate \"Goodbye\" into Spanish.\n",
      "\n",
      "The Spanish translation of 'Goodbye' is 'Adiós'.\n",
      "\n",
      "Score: 100\n"
     ]
    },
    {
     "name": "stderr",
     "output_type": "stream",
     "text": [
      "Scoring entries:  41%|████      | 45/110 [12:06<21:51, 20.17s/it]"
     ]
    },
    {
     "name": "stdout",
     "output_type": "stream",
     "text": [
      "Could not convert score: 80\n",
      "\n",
      "The corrected response \"Life is a journey\" uses a metaphor by equating life with a physical journey, conveying the idea that life has its own path and progression. The original sentence \"Life is like a journey\" uses a simile, which is different from a metaphor. A metaphor states that one thing is another thing, whereas a simile compares two things using \"like\" or \"as.\"\n"
     ]
    },
    {
     "name": "stderr",
     "output_type": "stream",
     "text": [
      "Scoring entries:  43%|████▎     | 47/110 [12:45<21:21, 20.33s/it]"
     ]
    },
    {
     "name": "stdout",
     "output_type": "stream",
     "text": [
      "Could not convert score: The rearranged list in descending order is: 20, 10, 5, -3.\n",
      "\n",
      "Score: 80\n"
     ]
    },
    {
     "name": "stderr",
     "output_type": "stream",
     "text": [
      "Scoring entries:  46%|████▋     | 51/110 [13:46<16:15, 16.53s/it]"
     ]
    },
    {
     "name": "stdout",
     "output_type": "stream",
     "text": [
      "Could not convert score: 80\n",
      "\n",
      "He remained very calm.\n"
     ]
    },
    {
     "name": "stderr",
     "output_type": "stream",
     "text": [
      "Scoring entries:  48%|████▊     | 53/110 [14:23<17:09, 18.07s/it]"
     ]
    },
    {
     "name": "stdout",
     "output_type": "stream",
     "text": [
      "Could not convert score: 60\n",
      "\n",
      "The sentence should be completed with \"banana\" as it is indeed the most popular fruit in the world. The model response is incomplete and lacks the correct answer.\n"
     ]
    },
    {
     "name": "stderr",
     "output_type": "stream",
     "text": [
      "Scoring entries:  54%|█████▎    | 59/110 [15:44<12:31, 14.73s/it]"
     ]
    },
    {
     "name": "stdout",
     "output_type": "stream",
     "text": [
      "Could not convert score: The reversed phrase is: Stars and moon\n",
      "\n",
      "Score: 0\n"
     ]
    },
    {
     "name": "stderr",
     "output_type": "stream",
     "text": [
      "Scoring entries:  55%|█████▌    | 61/110 [16:21<13:49, 16.92s/it]"
     ]
    },
    {
     "name": "stdout",
     "output_type": "stream",
     "text": [
      "Could not convert score: 60\n",
      "\n",
      "The past participle form of 'go' is 'gone'.\n"
     ]
    },
    {
     "name": "stderr",
     "output_type": "stream",
     "text": [
      "Scoring entries:  58%|█████▊    | 64/110 [17:23<15:55, 20.77s/it]"
     ]
    },
    {
     "name": "stdout",
     "output_type": "stream",
     "text": [
      "Could not convert score: I would rate the model response 0, as it does not use a simile to describe strength. A simile is a comparison between two unlike things using \"like\" or \"as.\" The correct response should be something like \"He is as strong as an ox,\" which uses a simile to compare someone's strength to that of an ox.\n"
     ]
    },
    {
     "name": "stderr",
     "output_type": "stream",
     "text": [
      "Scoring entries:  73%|███████▎  | 80/110 [21:17<07:36, 15.23s/it]"
     ]
    },
    {
     "name": "stdout",
     "output_type": "stream",
     "text": [
      "Could not convert score: Score: 0\n"
     ]
    },
    {
     "name": "stderr",
     "output_type": "stream",
     "text": [
      "Scoring entries:  83%|████████▎ | 91/110 [24:13<05:57, 18.79s/it]"
     ]
    },
    {
     "name": "stdout",
     "output_type": "stream",
     "text": [
      "Could not convert score: 60\n",
      "\n",
      "The correct output should be \"Animals: Cat\n",
      "Plants: Rose\n",
      "Metals: Gold\" instead of \"The animals are the Rose, gold, cat.\" because it doesn't correctly categorize \"Rose\" and \"gold\".\n"
     ]
    },
    {
     "name": "stderr",
     "output_type": "stream",
     "text": [
      "Scoring entries:  85%|████████▍ | 93/110 [24:57<05:56, 20.96s/it]"
     ]
    },
    {
     "name": "stdout",
     "output_type": "stream",
     "text": [
      "Could not convert score: 60\n",
      "\n",
      "The correct output should be `1, 3, 7, 8, 15` instead of `15, 8, 7, 9, 7`. The model response contains an extra number (9) and incorrect order.\n"
     ]
    },
    {
     "name": "stderr",
     "output_type": "stream",
     "text": [
      "Scoring entries:  98%|█████████▊| 108/110 [28:39<00:29, 14.97s/it]"
     ]
    },
    {
     "name": "stdout",
     "output_type": "stream",
     "text": [
      "Could not convert score: Command: Clean your room.\n",
      "\n",
      "Score: 80\n"
     ]
    },
    {
     "name": "stderr",
     "output_type": "stream",
     "text": [
      "Scoring entries:  99%|█████████▉| 109/110 [29:15<00:21, 21.47s/it]"
     ]
    },
    {
     "name": "stdout",
     "output_type": "stream",
     "text": [
      "Could not convert score: I would rate the model response \"He is a fountain of wisdom.\" as a 20. The original sentence \"He is very intelligent\" is being compared to a metaphorical concept (a fountain) that doesn't accurately convey the meaning of intelligence. A more fitting metaphor might be \"He is a genius\", which directly relates to exceptional intellectual ability.\n"
     ]
    },
    {
     "name": "stderr",
     "output_type": "stream",
     "text": [
      "Scoring entries: 100%|██████████| 110/110 [29:29<00:00, 16.09s/it]"
     ]
    },
    {
     "name": "stdout",
     "output_type": "stream",
     "text": [
      "Number of scores: 92 of 110\n",
      "Average score: 40.11\n",
      "\n"
     ]
    },
    {
     "name": "stderr",
     "output_type": "stream",
     "text": [
      "\n"
     ]
    }
   ],
   "source": [
    "scores = generate_model_scores(test_data, \"model_response\")\n",
    "print(f\"Number of scores: {len(scores)} of {len(test_data)}\")\n",
    "print(f\"Average score: {sum(scores)/len(scores):.2f}\\n\")"
   ]
  },
  {
   "cell_type": "markdown",
   "metadata": {},
   "source": [
    "### Evaluation Summary\n",
    "\n",
    "The evaluation results show that our fine-tuned model achieves an average score above 40, establishing a valuable benchmark for future comparisons with other models or for exploring improvements through varied training setups. It’s important to note that the Ollama platform's results may slightly differ across operating systems, affecting score consistency. For more reliable outcomes, multiple evaluations can be run and averaged.\n",
    "\n",
    "To further enhance model performance, several strategies can be considered:\n",
    "- Tuning hyperparameters such as learning rate, batch size, and number of epochs\n",
    "- Expanding or diversifying the training dataset to encompass a wider range of topics and styles\n",
    "- Experimenting with different prompts or instructions to better guide the model\n",
    "- Using a larger, more capable pretrained model for improved accuracy\n",
    "\n",
    "For context, the Llama 3 8B base model, without any fine-tuning, achieves an average score of 58.51, while the Llama 3 8B instruct model, fine-tuned on a general instruction-following dataset, scores significantly higher at 82.6."
   ]
  },
  {
   "cell_type": "markdown",
   "metadata": {},
   "source": [
    "### 🎉 Congratulations on Completing the Notebook! 🎉\n",
    "\n",
    "You've reached the end of this notebook, and that’s no small feat! By diving into the fundamentals of large language models (LLMs), we've built a strong foundation rooted in first principles, aiming to understand the mechanics from the ground up. This knowledge positions us well for the next stages of development, where even more exciting challenges await.\n",
    "\n",
    "While we've achieved significant progress in evaluation and scoring, there’s still much potential for refinement. Fine-tuning with larger models and datasets will be essential for achieving optimal performance, and we’ll be leveraging techniques like **LoRA (Low-Rank Adaptation)**, **QLoRA (Quantized LoRA)**, and **Direct Preference Optimization (DPO)**. These methods will help streamline the fine-tuning process, allowing us to scale up efficiently without sacrificing quality.\n",
    "\n",
    "Thank you for following along, and remember—this is just the beginning! With each step, we’re getting closer to unlocking the full potential of LLMs. Keep pushing boundaries and enjoy the journey as we continue exploring the vast possibilities in this field."
   ]
  },
  {
   "cell_type": "markdown",
   "metadata": {},
   "source": []
  }
 ],
 "metadata": {
  "accelerator": "GPU",
  "colab": {
   "gpuType": "T4",
   "provenance": []
  },
  "kernelspec": {
   "display_name": "torch",
   "language": "python",
   "name": "python3"
  },
  "language_info": {
   "codemirror_mode": {
    "name": "ipython",
    "version": 3
   },
   "file_extension": ".py",
   "mimetype": "text/x-python",
   "name": "python",
   "nbconvert_exporter": "python",
   "pygments_lexer": "ipython3",
   "version": "3.9.19"
  }
 },
 "nbformat": 4,
 "nbformat_minor": 0
}
